{
 "cells": [
  {
   "cell_type": "code",
   "execution_count": 1,
   "metadata": {
    "colab": {
     "base_uri": "https://localhost:8080/"
    },
    "executionInfo": {
     "elapsed": 43257,
     "status": "ok",
     "timestamp": 1660384147058,
     "user": {
      "displayName": "Tianchi YU",
      "userId": "12867761051656789482"
     },
     "user_tz": -120
    },
    "id": "CaiCUm_rCOqf",
    "outputId": "4d892c82-e8c9-4f82-b0e0-0243415176dc"
   },
   "outputs": [
    {
     "name": "stdout",
     "output_type": "stream",
     "text": [
      "Requirement already satisfied: plotly in d:\\working files\\anaconda3\\lib\\site-packages (5.10.0)\n",
      "Requirement already satisfied: tenacity>=6.2.0 in d:\\working files\\anaconda3\\lib\\site-packages (from plotly) (8.0.1)\n"
     ]
    }
   ],
   "source": [
    "#!pip uninstall matplotlib\n",
    "# !pip install parse\n",
    "!pip install plotly --upgrade"
   ]
  },
  {
   "cell_type": "code",
   "execution_count": 2,
   "metadata": {
    "colab": {
     "base_uri": "https://localhost:8080/"
    },
    "executionInfo": {
     "elapsed": 36003,
     "status": "ok",
     "timestamp": 1660384203826,
     "user": {
      "displayName": "Tianchi YU",
      "userId": "12867761051656789482"
     },
     "user_tz": -120
    },
    "id": "DdnHbTGUCcc-",
    "outputId": "c68f6d3e-7bee-4fe7-91ba-1812f4692107"
   },
   "outputs": [],
   "source": [
    "# from google.colab import drive\n",
    "# drive.mount('/content/drive')"
   ]
  },
  {
   "cell_type": "code",
   "execution_count": 3,
   "metadata": {
    "executionInfo": {
     "elapsed": 1128,
     "status": "ok",
     "timestamp": 1660384204950,
     "user": {
      "displayName": "Tianchi YU",
      "userId": "12867761051656789482"
     },
     "user_tz": -120
    },
    "id": "bbbAP-_mCqIR"
   },
   "outputs": [],
   "source": [
    "import plotly.express as px\n",
    "import pandas as pd\n",
    "import plotly\n",
    "import datetime as dt\n",
    "from parse import *"
   ]
  },
  {
   "cell_type": "code",
   "execution_count": 4,
   "metadata": {
    "executionInfo": {
     "elapsed": 12,
     "status": "ok",
     "timestamp": 1660384204952,
     "user": {
      "displayName": "Tianchi YU",
      "userId": "12867761051656789482"
     },
     "user_tz": -120
    },
    "id": "zDIEaruIC-xC"
   },
   "outputs": [],
   "source": [
    "colab_datadir = '/content/drive/MyDrive/sharedCodeBase/FamilyAnalysis/'\n",
    "local_datadir = './'\n",
    "datadir = local_datadir\n",
    "import sys\n",
    "sys.path.append(datadir)"
   ]
  },
  {
   "cell_type": "markdown",
   "metadata": {
    "id": "-FtHJ2E9j6VH"
   },
   "source": [
    "# Advanced Time Line"
   ]
  },
  {
   "cell_type": "code",
   "execution_count": 5,
   "metadata": {
    "executionInfo": {
     "elapsed": 2315,
     "status": "ok",
     "timestamp": 1660384207258,
     "user": {
      "displayName": "Tianchi YU",
      "userId": "12867761051656789482"
     },
     "user_tz": -120
    },
    "id": "sYhwV4-Uj9hj"
   },
   "outputs": [],
   "source": [
    "EXCEL_FILE = \"family1/figures_tag1/All_time_advanced.xlsx\"   #每次改这里\n",
    "# read excel\n",
    "ori_df = pd.read_excel(datadir+EXCEL_FILE)"
   ]
  },
  {
   "cell_type": "code",
   "execution_count": 6,
   "metadata": {
    "colab": {
     "base_uri": "https://localhost:8080/"
    },
    "executionInfo": {
     "elapsed": 21,
     "status": "ok",
     "timestamp": 1660384207260,
     "user": {
      "displayName": "Tianchi YU",
      "userId": "12867761051656789482"
     },
     "user_tz": -120
    },
    "id": "NwrWEJs_leX7",
    "outputId": "e18924f2-89cf-4680-9e23-e83bcc6c5b57"
   },
   "outputs": [
    {
     "name": "stdout",
     "output_type": "stream",
     "text": [
      "     Zone               Start                 End  Period\n",
      "0     0常驻 2022-02-02 19:09:00 2022-02-02 19:12:00       3\n",
      "1     0常驻 2022-02-02 19:14:00 2022-02-02 19:30:00      16\n",
      "2     0常驻 2022-02-02 20:09:00 2022-02-02 20:10:00       1\n",
      "3     0常驻 2022-02-02 20:15:00 2022-02-02 20:20:00       5\n",
      "4     0常驻 2022-02-02 20:22:00 2022-02-02 21:32:00      70\n",
      "..    ...                 ...                 ...     ...\n",
      "900  3非常驻 2022-02-11 22:13:00 2022-02-11 22:14:00       1\n",
      "901  3非常驻 2022-02-11 22:59:00 2022-02-11 23:00:00       1\n",
      "902  3非常驻 2022-02-13 17:21:00 2022-02-13 17:22:00       1\n",
      "903  3非常驻 2022-02-13 17:43:00 2022-02-13 17:45:00       2\n",
      "904  3非常驻 2022-02-13 18:44:00 2022-02-13 18:47:00       3\n",
      "\n",
      "[905 rows x 4 columns]\n",
      "     Zone               Start                 End  Period  Color       Dates  \\\n",
      "0     0常驻 2022-02-02 19:09:00 2022-02-02 19:12:00       3     15  2022-02-02   \n",
      "1     0常驻 2022-02-02 19:14:00 2022-02-02 19:30:00      16     15  2022-02-02   \n",
      "2     0常驻 2022-02-02 20:09:00 2022-02-02 20:10:00       1     15  2022-02-02   \n",
      "3     0常驻 2022-02-02 20:15:00 2022-02-02 20:20:00       5     15  2022-02-02   \n",
      "4     0常驻 2022-02-02 20:22:00 2022-02-02 21:32:00      70     15  2022-02-02   \n",
      "..    ...                 ...                 ...     ...    ...         ...   \n",
      "900  3非常驻 2022-02-11 22:13:00 2022-02-11 22:14:00       1     55  2022-02-11   \n",
      "901  3非常驻 2022-02-11 22:59:00 2022-02-11 23:00:00       1     55  2022-02-11   \n",
      "902  3非常驻 2022-02-13 17:21:00 2022-02-13 17:22:00       1     55  2022-02-13   \n",
      "903  3非常驻 2022-02-13 17:43:00 2022-02-13 17:45:00       2     55  2022-02-13   \n",
      "904  3非常驻 2022-02-13 18:44:00 2022-02-13 18:47:00       3     55  2022-02-13   \n",
      "\n",
      "           ST        ET  \n",
      "0    19:09:00  19:12:00  \n",
      "1    19:14:00  19:30:00  \n",
      "2    20:09:00  20:10:00  \n",
      "3    20:15:00  20:20:00  \n",
      "4    20:22:00  21:32:00  \n",
      "..        ...       ...  \n",
      "900  22:13:00  22:14:00  \n",
      "901  22:59:00  23:00:00  \n",
      "902  17:21:00  17:22:00  \n",
      "903  17:43:00  17:45:00  \n",
      "904  18:44:00  18:47:00  \n",
      "\n",
      "[905 rows x 8 columns]\n"
     ]
    }
   ],
   "source": [
    "def label_color(zone):\n",
    "  index = int(zone[0])\n",
    "  color = 15 * (index + 1)\n",
    "  if zone.endswith(\"非常驻\"):\n",
    "    return color - 5\n",
    "  return color\n",
    "\n",
    "df = ori_df.copy()\n",
    "print(df)\n",
    "df['Color'] = df.apply(lambda zones: label_color(zones[\"Zone\"]), axis=1) #这一列只是用于Continunous Color的时候有用\n",
    "df['Dates'] = df['Start'].dt.date\n",
    "df['ST'] = df['Start'].dt.time\n",
    "df['ET'] = df['End'].dt.time\n",
    "print(df)"
   ]
  },
  {
   "cell_type": "code",
   "execution_count": null,
   "metadata": {
    "executionInfo": {
     "elapsed": 14,
     "status": "ok",
     "timestamp": 1660384207261,
     "user": {
      "displayName": "Tianchi YU",
      "userId": "12867761051656789482"
     },
     "user_tz": -120
    },
    "id": "mfggj71kleN1"
   },
   "outputs": [],
   "source": []
  },
  {
   "cell_type": "code",
   "execution_count": 7,
   "metadata": {
    "colab": {
     "base_uri": "https://localhost:8080/",
     "height": 122
    },
    "executionInfo": {
     "elapsed": 1153,
     "status": "ok",
     "timestamp": 1660384208403,
     "user": {
      "displayName": "Tianchi YU",
      "userId": "12867761051656789482"
     },
     "user_tz": -120
    },
    "id": "qnn7Kitlka2Z",
    "outputId": "ddab647f-810f-4101-e625-048e3c278baf"
   },
   "outputs": [
    {
     "name": "stderr",
     "output_type": "stream",
     "text": [
      "<ipython-input-7-d3a66e0862cf>:7: SettingWithCopyWarning: \n",
      "A value is trying to be set on a copy of a slice from a DataFrame\n",
      "\n",
      "See the caveats in the documentation: https://pandas.pydata.org/pandas-docs/stable/user_guide/indexing.html#returning-a-view-versus-a-copy\n",
      "  fake_s['Period'] =0\n",
      "<ipython-input-7-d3a66e0862cf>:8: SettingWithCopyWarning: \n",
      "A value is trying to be set on a copy of a slice from a DataFrame\n",
      "\n",
      "See the caveats in the documentation: https://pandas.pydata.org/pandas-docs/stable/user_guide/indexing.html#returning-a-view-versus-a-copy\n",
      "  fake_s['ST'] = dt.time(6,0,0)\n",
      "<ipython-input-7-d3a66e0862cf>:9: SettingWithCopyWarning: \n",
      "A value is trying to be set on a copy of a slice from a DataFrame\n",
      "\n",
      "See the caveats in the documentation: https://pandas.pydata.org/pandas-docs/stable/user_guide/indexing.html#returning-a-view-versus-a-copy\n",
      "  fake_s['ET'] = dt.time(6,0,0)\n",
      "<ipython-input-7-d3a66e0862cf>:10: SettingWithCopyWarning: \n",
      "A value is trying to be set on a copy of a slice from a DataFrame\n",
      "\n",
      "See the caveats in the documentation: https://pandas.pydata.org/pandas-docs/stable/user_guide/indexing.html#returning-a-view-versus-a-copy\n",
      "  fake_e['Period'] =0\n",
      "<ipython-input-7-d3a66e0862cf>:11: SettingWithCopyWarning: \n",
      "A value is trying to be set on a copy of a slice from a DataFrame\n",
      "\n",
      "See the caveats in the documentation: https://pandas.pydata.org/pandas-docs/stable/user_guide/indexing.html#returning-a-view-versus-a-copy\n",
      "  fake_e['ST'] = dt.time(23,59,59)\n",
      "<ipython-input-7-d3a66e0862cf>:12: SettingWithCopyWarning: \n",
      "A value is trying to be set on a copy of a slice from a DataFrame\n",
      "\n",
      "See the caveats in the documentation: https://pandas.pydata.org/pandas-docs/stable/user_guide/indexing.html#returning-a-view-versus-a-copy\n",
      "  fake_e['ET'] = dt.time(23,59,59)\n"
     ]
    },
    {
     "data": {
      "text/plain": [
       "'./Timelines/Advanced_Time_Overview_Gantt_family1_tag1.html'"
      ]
     },
     "execution_count": 7,
     "metadata": {},
     "output_type": "execute_result"
    }
   ],
   "source": [
    "#需要改最后一行，生成图片名称\n",
    "\n",
    "# IMPORTANT ! \n",
    "# Adjust day time : add a fake start time and a fake end time\n",
    "fake_s = df.iloc[0]\n",
    "fake_e = df.iloc[0]\n",
    "fake_s['Period'] =0\n",
    "fake_s['ST'] = dt.time(6,0,0)\n",
    "fake_s['ET'] = dt.time(6,0,0)\n",
    "fake_e['Period'] =0\n",
    "fake_e['ST'] = dt.time(23,59,59)\n",
    "fake_e['ET'] = dt.time(23,59,59)\n",
    "#print(fake_s)\n",
    "df=df.append(fake_s)\n",
    "df=df.append(fake_e)\n",
    "\n",
    "\n",
    "# prepare for figure\n",
    "reference = dt.datetime(2022,1,1,0,0)\n",
    "# combine time all in the same day\n",
    "df[\"Start\"] = df.apply(lambda x :  dt.datetime.combine(reference,x[\"ST\"]), axis=1 )\n",
    "df[\"End\"] = df.apply(lambda x :  dt.datetime.combine(reference,x[\"ET\"]), axis=1 )\n",
    "\n",
    "# draw overview time line\n",
    "zones = df[\"Zone\"]\n",
    "datetime_series_s = df[\"Start\"]\n",
    "datetime_series_e = df[\"End\"]\n",
    "color = df[\"Color\"]\n",
    "Dates = df[\"Dates\"]\n",
    "information = df[\"Zone\"]\n",
    "#-----------------------------------\n",
    "# Continunous Colors 连续颜色分布\n",
    "# fig = px.timeline(df, x_start=datetime_series_s, x_end=datetime_series_e, y=Dates, color=\"Color\", hover_name = information,opacity=0.9)\n",
    "#-----------------------------------\n",
    "# Discrete Colors 1 彩色分布\n",
    "# fig = px.timeline(df, x_start=datetime_series_s, x_end=datetime_series_e, y=Dates, color=\"Zone\", hover_name = information,opacity=0.9,\n",
    "#                   color_discrete_sequence=px.colors.qualitative.G10)\n",
    "#-----------------------------------\n",
    "# Discrete Colors 2 渐变离散分布\n",
    "# fig = px.timeline(df, x_start=datetime_series_s, x_end=datetime_series_e, y=Dates, color=\"Zone\", hover_name = information,opacity=0.9,\n",
    "#                   color_discrete_sequence= px.colors.sequential.Plasma_r)\n",
    "#-----------------------------------\n",
    "# Discrete Colors 3 手动定义分布\n",
    "# 资源 https://www.heavy.ai/blog/12-color-palettes-for-telling-better-stories-with-your-data\n",
    "# 资源2 https://colorhunt.co/\n",
    "blue2red = [\"#1984c5\", \"#22a7f0\", \"#63bff0\", \"#a7d5ed\", \"#e2e2e2\", \"#e1a692\", \"#de6e56\", \"#e14b31\", \"#c23728\"]\n",
    "pink2foam = [\"#54bebe\", \"#76c8c8\", \"#98d1d1\", \"#badbdb\", \"#dedad2\", \"#e4bcad\", \"#df979e\", \"#d7658b\", \"#c80064\"]\n",
    "grid2red = [\"#d7e1ee\", \"#cbd6e4\", \"#bfcbdb\", \"#b3bfd1\", \"#a4a2a8\", \"#df8879\", \"#c86558\", \"#b04238\", \"#991f17\"]\n",
    "Paired = [\"#B8D7E8\",\"#4C93C3\",\"#C1E5A1\",\"#5CB356\",\"#FBAEAD\",\"#E84849\",\"#FDCB8C\",\"#FF9833\"]\n",
    "\n",
    "self_defined_color_discrete_map = {}\n",
    "order = 0\n",
    "for zone in zones:\n",
    "  if zone in self_defined_color_discrete_map :\n",
    "    continue\n",
    "  if zone.endswith(\"常驻\"):\n",
    "    self_defined_color_discrete_map[zone] = blue2red[order]\n",
    "    order += 1\n",
    "\n",
    "fig = px.timeline(df, x_start=datetime_series_s, x_end=datetime_series_e, y=Dates,\n",
    "                  color=\"Zone\", hover_name = information,opacity=0.9,\n",
    "                  color_discrete_map={\"0非常驻\": \"#B8D7E8\",\n",
    "                                      \"0常驻\": \"#4C93C3\",\n",
    "                                      \"1非常驻\": \"#C1E5A1\",\n",
    "                                      \"1常驻\": \"#5CB356\",\n",
    "                                      \"2非常驻\": \"#FBAEAD\",\n",
    "                                      \"2常驻\": \"#E84849\",\n",
    "                                      \"3非常驻\": \"#FDCB8C\",\n",
    "                                      \"3常驻\": \"#FF9833\"})\n",
    "\n",
    "## 另一个写法\n",
    "# fig = px.timeline(df, x_start=datetime_series_s, x_end=datetime_series_e, y=Dates, color=\"Zone\", hover_name = information,opacity=0.9,\n",
    "#                   color_discrete_map=self_defined_color_discrete_map)\n",
    "\n",
    "#-----------------------------------\n",
    "\n",
    "fig.update_yaxes(autorange=\"reversed\")\n",
    "fig.update_layout(title_font_size=42, font_size=18, title_font_family=\"Arial\")\n",
    "\n",
    "plotly.offline.plot(fig, filename=datadir+\"Timelines/\"+\"Advanced_Time_Overview_Gantt_family1_tag1.html\")"
   ]
  },
  {
   "cell_type": "code",
   "execution_count": null,
   "metadata": {
    "executionInfo": {
     "elapsed": 12,
     "status": "ok",
     "timestamp": 1660384208404,
     "user": {
      "displayName": "Tianchi YU",
      "userId": "12867761051656789482"
     },
     "user_tz": -120
    },
    "id": "eBqeUchA3FmF"
   },
   "outputs": [],
   "source": []
  },
  {
   "cell_type": "markdown",
   "metadata": {
    "id": "l8AM0TCgkV1h"
   },
   "source": [
    "# Old Version"
   ]
  },
  {
   "cell_type": "code",
   "execution_count": 8,
   "metadata": {
    "executionInfo": {
     "elapsed": 11,
     "status": "ok",
     "timestamp": 1660384208404,
     "user": {
      "displayName": "Tianchi YU",
      "userId": "12867761051656789482"
     },
     "user_tz": -120
    },
    "id": "AmRCy6XCC-j9"
   },
   "outputs": [],
   "source": [
    "# EXCEL_FILE = \"family1/figures_tag0/All_time_advanced.xlsx\"   #每次改这里family1_figures_tag0/All_time.xlsx\n",
    "# # read excel\n",
    "# df = pd.read_excel(datadir+EXCEL_FILE)\n",
    "# ori_df = df.copy()\n",
    "# print(df)"
   ]
  },
  {
   "cell_type": "code",
   "execution_count": null,
   "metadata": {
    "executionInfo": {
     "elapsed": 12,
     "status": "ok",
     "timestamp": 1660384208405,
     "user": {
      "displayName": "Tianchi YU",
      "userId": "12867761051656789482"
     },
     "user_tz": -120
    },
    "id": "dr9JHwj1CyFL"
   },
   "outputs": [],
   "source": []
  },
  {
   "cell_type": "markdown",
   "metadata": {
    "id": "xvKL7-ZYMkGZ"
   },
   "source": [
    "## Overview Time Line Gantt"
   ]
  },
  {
   "cell_type": "code",
   "execution_count": 9,
   "metadata": {
    "executionInfo": {
     "elapsed": 12,
     "status": "ok",
     "timestamp": 1660384208405,
     "user": {
      "displayName": "Tianchi YU",
      "userId": "12867761051656789482"
     },
     "user_tz": -120
    },
    "id": "L6Ex1lzfISyO"
   },
   "outputs": [],
   "source": [
    "# add new columns\n",
    "# def label_name(zones):\n",
    "#   if zones['Zone'] == 0:\n",
    "#     return 'Zone0'\n",
    "#   if zones['Zone'] == 1:\n",
    "#     return 'Zone1'\n",
    "#   if zones['Zone'] == 2:\n",
    "#     return 'Zone2'\n",
    "#   if zones['Zone'] == 3:\n",
    "#     return 'Zone3'\n",
    "#   if zones['Zone'] == 4:\n",
    "#     return 'Zone4'\n",
    "#   if zones['Zone'] == 5:\n",
    "#     return 'Zone5'\n",
    "#   if zones['Zone'] == 6:\n",
    "#     return 'Zone6'\n",
    "#   if zones['Zone'] == 7:\n",
    "#     return 'Zone7'\n",
    "#   if zones['Zone'] == 8:\n",
    "#     return 'Zone8'\n",
    "#   return 'Zone9'\n",
    "\n",
    "# def label_color(zones):\n",
    "#   if zones['Zone'] == 0:\n",
    "#     return 5\n",
    "#   if zones['Zone'] == 1:\n",
    "#     return 10\n",
    "#   if zones['Zone'] == 2:\n",
    "#     return 15\n",
    "#   if zones['Zone'] == 3:\n",
    "#     return 20\n",
    "#   if zones['Zone'] == 4:\n",
    "#     return 25\n",
    "#   if zones['Zone'] == 5:\n",
    "#     return 30\n",
    "#   if zones['Zone'] == 6:\n",
    "#     return 35\n",
    "#   if zones['Zone'] == 7:\n",
    "#     return 40\n",
    "#   if zones['Zone'] == 8:\n",
    "#     return 45\n",
    "#   return 50\n",
    "\n",
    "# df['Name'] = df.apply (lambda zones: label_name(zones), axis=1)\n",
    "# df['Color'] = df.apply(lambda zones: label_color(zones), axis=1)\n",
    "# print(df)"
   ]
  },
  {
   "cell_type": "code",
   "execution_count": 10,
   "metadata": {
    "executionInfo": {
     "elapsed": 11,
     "status": "ok",
     "timestamp": 1660384208405,
     "user": {
      "displayName": "Tianchi YU",
      "userId": "12867761051656789482"
     },
     "user_tz": -120
    },
    "id": "wzkU_hKjC3uI"
   },
   "outputs": [],
   "source": [
    "# # draw overview time line\n",
    "# zones = df[\"Zone\"]\n",
    "# datetime_series_s = df[\"Start\"]\n",
    "# datetime_series_e = df[\"End\"]\n",
    "# color = df[\"Color\"]\n",
    "# information = df[\"Name\"]\n",
    "\n",
    "# fig = px.timeline(df, x_start=datetime_series_s, x_end=datetime_series_e, y=zones, color=color, hover_name = information)\n",
    "# fig.update_yaxes(autorange=\"reversed\")\n",
    "# fig.update_layout(title_font_size=42, font_size=18, title_font_family=\"Arial\")\n",
    "\n",
    "# plotly.offline.plot(fig, filename=datadir+\"Timelines/\"+\"Time_Overview_Gantt.html\")"
   ]
  },
  {
   "cell_type": "markdown",
   "metadata": {
    "id": "I7xmuaLmMyWk"
   },
   "source": [
    "## Daily Time Line For Each Zone"
   ]
  },
  {
   "cell_type": "code",
   "execution_count": null,
   "metadata": {
    "executionInfo": {
     "elapsed": 12,
     "status": "ok",
     "timestamp": 1660384208406,
     "user": {
      "displayName": "Tianchi YU",
      "userId": "12867761051656789482"
     },
     "user_tz": -120
    },
    "id": "YdrL12xYK7cj"
   },
   "outputs": [],
   "source": []
  },
  {
   "cell_type": "code",
   "execution_count": 11,
   "metadata": {
    "executionInfo": {
     "elapsed": 11,
     "status": "ok",
     "timestamp": 1660384208406,
     "user": {
      "displayName": "Tianchi YU",
      "userId": "12867761051656789482"
     },
     "user_tz": -120
    },
    "id": "lAyrfmBHM8Bi"
   },
   "outputs": [],
   "source": [
    "# df = ori_df.copy()\n",
    "# df['Dates'] = df['Start'].dt.date\n",
    "# df['ST'] = df['Start'].dt.time\n",
    "# df['ET'] = df['End'].dt.time\n",
    "# df['Name'] = df.apply(lambda x: x['Dates'].strftime(\"%y-%m-%d\"), axis=1)"
   ]
  },
  {
   "cell_type": "markdown",
   "metadata": {
    "id": "0XUzxVeeXW2c"
   },
   "source": [
    "### Define colors\n",
    "\n",
    "Please only use one method"
   ]
  },
  {
   "cell_type": "markdown",
   "metadata": {
    "id": "1eq-vAMkXZJr"
   },
   "source": [
    "#### First Method"
   ]
  },
  {
   "cell_type": "code",
   "execution_count": 12,
   "metadata": {
    "executionInfo": {
     "elapsed": 11,
     "status": "ok",
     "timestamp": 1660384208406,
     "user": {
      "displayName": "Tianchi YU",
      "userId": "12867761051656789482"
     },
     "user_tz": -120
    },
    "id": "APKeIPDOXVhZ"
   },
   "outputs": [],
   "source": [
    "# days = df['Dates'].unique()\n",
    "# colors = {}\n",
    "# for i in range(len(days)):\n",
    "#   #colors[days[i]] = (i+1)*5 # different random colors\n",
    "#   colors[days[i]] = 70 # same color\n",
    "# df['Color'] = df.apply(lambda x: colors[x['Dates']], axis=1)\n",
    "# print(df)"
   ]
  },
  {
   "cell_type": "markdown",
   "metadata": {
    "id": "MUAf_C4tXch0"
   },
   "source": [
    "#### Second Method"
   ]
  },
  {
   "cell_type": "code",
   "execution_count": 13,
   "metadata": {
    "executionInfo": {
     "elapsed": 12,
     "status": "ok",
     "timestamp": 1660384208407,
     "user": {
      "displayName": "Tianchi YU",
      "userId": "12867761051656789482"
     },
     "user_tz": -120
    },
    "id": "fiCoZAt8Xey9"
   },
   "outputs": [],
   "source": [
    "# import math\n",
    "# df['Color'] = df.apply(lambda x: math.sqrt(x['Period']), axis=1)\n",
    "# print(df)"
   ]
  },
  {
   "cell_type": "code",
   "execution_count": 14,
   "metadata": {
    "executionInfo": {
     "elapsed": 11,
     "status": "ok",
     "timestamp": 1660384208407,
     "user": {
      "displayName": "Tianchi YU",
      "userId": "12867761051656789482"
     },
     "user_tz": -120
    },
    "id": "JViHGzT5NilC"
   },
   "outputs": [],
   "source": [
    "# zones = [y for _, y in df.groupby('Zone', as_index=False)]\n",
    "# print(\"Example of Zone 0\")\n",
    "# zones[0]\n"
   ]
  },
  {
   "cell_type": "markdown",
   "metadata": {
    "id": "vlqIciNPjc9L"
   },
   "source": [
    "### 开始作图"
   ]
  },
  {
   "cell_type": "code",
   "execution_count": 15,
   "metadata": {
    "executionInfo": {
     "elapsed": 11,
     "status": "ok",
     "timestamp": 1660384208407,
     "user": {
      "displayName": "Tianchi YU",
      "userId": "12867761051656789482"
     },
     "user_tz": -120
    },
    "id": "owuUN7jLN__t"
   },
   "outputs": [],
   "source": [
    "# # 开始画图\n",
    "# index = 0\n",
    "# for zone in zones:\n",
    "#   zone_info = \"Zone\"+str(index)\n",
    "#   index +=1\n",
    "#   # IMPORTANT ! \n",
    "#   # Adjust day time : add a fake start time and a fake end time\n",
    "#   fake_s = zone.iloc[0]\n",
    "#   fake_e = zone.iloc[0]\n",
    "#   fake_s['Period'] =0\n",
    "#   fake_s['ST'] = dt.time(6,0,0)\n",
    "#   fake_s['ET'] = dt.time(6,0,0)\n",
    "#   fake_e['Period'] =0\n",
    "#   fake_e['ST'] = dt.time(23,59,59)\n",
    "#   fake_e['ET'] = dt.time(23,59,59)\n",
    "#   #print(fake_s)\n",
    "#   zone=zone.append(fake_s)\n",
    "#   zone=zone.append(fake_e)\n",
    "\n",
    "#   # prepare for figure\n",
    "#   name = zone[\"Name\"]\n",
    "#   reference = dt.datetime(2022,1,1,0,0)\n",
    "#   # combine time all in the same day\n",
    "#   zone[\"Start\"] = zone.apply(lambda x :  dt.datetime.combine(reference,x[\"ST\"]), axis=1 )\n",
    "#   zone[\"End\"] = zone.apply(lambda x :  dt.datetime.combine(reference,x[\"ET\"]), axis=1 )\n",
    "#   datetime_series_s =zone[\"Start\"]\n",
    "#   datetime_series_e = zone[\"End\"]\n",
    "#   color = zone[\"Color\"]\n",
    "#   information = zone[\"Dates\"]\n",
    "#   fig = px.timeline(df, x_start=datetime_series_s, x_end=datetime_series_e, y=name, color=color, hover_name = information)\n",
    "#   fig.update_yaxes(autorange=\"reversed\")\n",
    "#   fig.update_layout(title_font_size=42, font_size=18, title_font_family=\"Arial\")\n",
    "\n",
    "#   plotly.offline.plot(fig, filename=datadir+\"Timelines/\"+\"TimeLine_\"+zone_info+\".html\")"
   ]
  },
  {
   "cell_type": "code",
   "execution_count": null,
   "metadata": {
    "executionInfo": {
     "elapsed": 11,
     "status": "ok",
     "timestamp": 1660384208408,
     "user": {
      "displayName": "Tianchi YU",
      "userId": "12867761051656789482"
     },
     "user_tz": -120
    },
    "id": "LUyuiKeOQ8Yt"
   },
   "outputs": [],
   "source": []
  }
 ],
 "metadata": {
  "colab": {
   "collapsed_sections": [],
   "name": "TimeLineGantt.ipynb",
   "provenance": []
  },
  "kernelspec": {
   "display_name": "Python 3",
   "language": "python",
   "name": "python3"
  },
  "language_info": {
   "codemirror_mode": {
    "name": "ipython",
    "version": 3
   },
   "file_extension": ".py",
   "mimetype": "text/x-python",
   "name": "python",
   "nbconvert_exporter": "python",
   "pygments_lexer": "ipython3",
   "version": "3.8.8"
  },
  "vscode": {
   "interpreter": {
    "hash": "0b3f080d8c8b565d9b8a6f462f0297a73e5243ce2927afb17416fb1378dbe0b4"
   }
  }
 },
 "nbformat": 4,
 "nbformat_minor": 1
}
