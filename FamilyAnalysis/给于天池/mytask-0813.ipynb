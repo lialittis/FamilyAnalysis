{
 "cells": [
  {
   "cell_type": "code",
   "execution_count": 156,
   "metadata": {
    "colab": {
     "base_uri": "https://localhost:8080/"
    },
    "executionInfo": {
     "elapsed": 18371,
     "status": "ok",
     "timestamp": 1660575361100,
     "user": {
      "displayName": "Tianchi YU",
      "userId": "12867761051656789482"
     },
     "user_tz": -120
    },
    "id": "dNYWftOaWJBq",
    "outputId": "4645af2c-a26e-4ccb-ac8a-4eff402e97f3"
   },
   "outputs": [],
   "source": [
    "# !pip uninstall matplotlib\n",
    "# !pip install parse\n",
    "# !pip install matplotlib --upgrade"
   ]
  },
  {
   "cell_type": "code",
   "execution_count": 157,
   "metadata": {
    "colab": {
     "base_uri": "https://localhost:8080/"
    },
    "executionInfo": {
     "elapsed": 4081,
     "status": "ok",
     "timestamp": 1660575365174,
     "user": {
      "displayName": "Tianchi YU",
      "userId": "12867761051656789482"
     },
     "user_tz": -120
    },
    "id": "vkZIcwkaWMCP",
    "outputId": "a1d1662c-1370-41ce-deda-9a5694886a29"
   },
   "outputs": [
    {
     "name": "stdout",
     "output_type": "stream",
     "text": [
      "Name: matplotlib\n",
      "Version: 3.5.2\n",
      "Summary: Python plotting package\n",
      "Home-page: https://matplotlib.org\n",
      "Author: John D. Hunter, Michael Droettboom\n",
      "Author-email: matplotlib-users@python.org\n",
      "License: PSF\n",
      "Location: d:\\working files\\anaconda3\\lib\\site-packages\n",
      "Requires: packaging, numpy, fonttools, pyparsing, pillow, python-dateutil, cycler, kiwisolver\n",
      "Required-by: seaborn, scikit-image, jupyterthemes\n"
     ]
    }
   ],
   "source": [
    "!pip show matplotlib"
   ]
  },
  {
   "cell_type": "code",
   "execution_count": 158,
   "metadata": {
    "executionInfo": {
     "elapsed": 8,
     "status": "ok",
     "timestamp": 1660575365174,
     "user": {
      "displayName": "Tianchi YU",
      "userId": "12867761051656789482"
     },
     "user_tz": -120
    },
    "id": "iixXO2b2WMsf"
   },
   "outputs": [],
   "source": [
    "# from google.colab import drive\n",
    "# drive.mount('/content/drive')"
   ]
  },
  {
   "cell_type": "code",
   "execution_count": 159,
   "metadata": {
    "executionInfo": {
     "elapsed": 1800,
     "status": "ok",
     "timestamp": 1660575368942,
     "user": {
      "displayName": "Tianchi YU",
      "userId": "12867761051656789482"
     },
     "user_tz": -120
    },
    "id": "yhBpAZsoN8Sl"
   },
   "outputs": [],
   "source": [
    "import pandas as pd\n",
    "import numpy as np\n",
    "\n",
    "from parse import *\n",
    "import os\n",
    "import sys\n",
    "import sklearn\n",
    "from sklearn.datasets import make_blobs\n",
    "from matplotlib import pyplot as plt\n",
    "#%matplotlib auto\n",
    "import matplotlib.image as mpimg \n",
    "import seaborn as sns\n",
    "import datetime as dt\n",
    "import matplotlib.pyplot as plt\n",
    "import matplotlib.dates as mdates\n",
    "from matplotlib.collections import PolyCollection\n",
    "from collections import defaultdict\n",
    "import datetime\n",
    "from datetime import timedelta\n",
    "import argparse\n",
    "\n",
    "# 定义数据基本路径（云端或本地）\n",
    "colab_datadir = '/content/drive/MyDrive/sharedCodeBase/FamilyAnalysis/'\n",
    "local_datadir = './'\n",
    "datadir = local_datadir\n",
    "sys.path.append(datadir)\n",
    "\n",
    "from myHelper import *\n",
    "from graphHelper import *"
   ]
  },
  {
   "cell_type": "markdown",
   "metadata": {
    "id": "_CNqDnVJNo6l"
   },
   "source": [
    "# 1. 选择家庭"
   ]
  },
  {
   "cell_type": "code",
   "execution_count": 160,
   "metadata": {
    "executionInfo": {
     "elapsed": 12,
     "status": "ok",
     "timestamp": 1660575368944,
     "user": {
      "displayName": "Tianchi YU",
      "userId": "12867761051656789482"
     },
     "user_tz": -120
    },
    "id": "ZXnReomfWH4d"
   },
   "outputs": [],
   "source": [
    "# 定义参数类，替代输入参数\n",
    "class Myclass():\n",
    "    MinCountOfPoints=6 #这里我没改，因为分长时间和短时间计算时，我手动一起调了（详见最后一个part）\n",
    "    MinCountOfPointsForAll=-1\n",
    "    SizeOfGrid='1' # 不需要调 \n",
    "    figure=datadir+'floorplan01.png' # 默认\n",
    "    path=datadir+'results_both/' # 默认\n",
    "    res=datadir+'figures_both/' # 默认\n",
    "    bySecond=False\n",
    "    IntervalOfMinutesOrSeconds=1 # 1分钟 1个点  \n",
    "    setConfig=True #False\n",
    "\n",
    "arguments=Myclass()\n"
   ]
  },
  {
   "cell_type": "code",
   "execution_count": 161,
   "metadata": {
    "colab": {
     "base_uri": "https://localhost:8080/"
    },
    "executionInfo": {
     "elapsed": 2750,
     "status": "ok",
     "timestamp": 1660575371683,
     "user": {
      "displayName": "Tianchi YU",
      "userId": "12867761051656789482"
     },
     "user_tz": -120
    },
    "id": "VNhdh5o7WH4e",
    "outputId": "f2e5a073-d05e-4fab-f2ec-52242693468e"
   },
   "outputs": [
    {
     "name": "stdout",
     "output_type": "stream",
     "text": [
      "==>Familiy choices :<==\n",
      "1 :ParentsOfSun\n",
      "2 :UncleOfSun\n",
      "3 :AuntOfSun\n",
      "4 :Zeng\n",
      "1\n",
      "Family of ParentsOfSun is chosen!\n",
      "\n",
      "Trace familes:\n",
      "\tParentsOfSun\n",
      "\tsize of house : [-1.6, 13.55, -2.5, 10.55]\n",
      "\t\tScenario=Shift\n",
      "\t\t\tzone 1: OutDoor\n",
      "\t\t\t\t{ x : [-1000.0,-0.0],y : [-1000.0,1000.0] => Delete\n",
      "\t\t\tzone 2: OutCanteen\n",
      "\t\t\t\t{ x : [-0.375,1.07],y : [6.885,1000.0] => MoveToDown\n",
      "\t\t\tzone kitchen: InKitchen\n",
      "\t\t\t\t{ x : [1.35,3.5],y : [7.165,10.26] => MoveToLeftLinearly\n",
      "\t\t\tzone 3: OutKitchen\n",
      "\t\t\t\t{ x : [1.35,3.5],y : [10.26,1000.0] => MoveToDown\n",
      "\t\t\tzone 4: OutKitchen\n",
      "\t\t\t\t{ x : [3.5,1000.0],y : [10.26,1000.0] => MoveToLeftDown\n",
      "\t\t\tzone 5: OutCanteen\n",
      "\t\t\t\t{ x : [3.5,1000.0],y : [4.985,6.885] => MoveToLeft\n",
      "\t\t\tzone 6: OutBalcony\n",
      "\t\t\t\t{ x : [-0.375,6.59],y : [-1000.0,-2.2] => MoveToUp\n",
      "\t\t\tzone 7: OutBedRoom\n",
      "\t\t\t\t{ x : [3.5,1000.0],y : [4.03,7.165] => MoveToLeft\n",
      "\t\t\tzone 8: OutLivingroom\n",
      "\t\t\t\t{ x : [3.89,1000.0],y : [-0.36,4.03] => MoveToLeft\n",
      "Directory  ./family1/figures_tag1/  already exists\n"
     ]
    }
   ],
   "source": [
    "\n",
    "##########################################\n",
    "# Choose Family\n",
    "##########################################\n",
    "family_config = chooseFamily()\n",
    "\n",
    "max_x = family_config.size[1]\n",
    "min_x = family_config.size[0]\n",
    "max_y = family_config.size[3]\n",
    "min_y = family_config.size[2]\n",
    "\n",
    "if family_config.name == \"ParentsOfSun\":\n",
    "  arguments.figure = datadir+'floorplan01.png'\n",
    "  arguments.path = datadir+'family1/results_tag1/'\n",
    "  arguments.res=datadir+'family1/figures_tag1/'\n",
    "elif family_config.name == \"UncleOfSun\":\n",
    "  arguments.figure = datadir+'floorplan02.png'\n",
    "  arguments.path = datadir+'family2/results_tag0/'\n",
    "  arguments.res=datadir+'family2/figures_tag0/'\n",
    "elif family_config.name == \"AuntOfSun\":\n",
    "  arguments.figure = datadir+'floorplan03.png'\n",
    "  arguments.path = datadir+'family3/results_tag2/'\n",
    "  arguments.res=datadir+'family3/figures_tag2/'\n",
    "elif family_config.name == \"Zeng\":\n",
    "  arguments.figure = datadir+'floorplan04.png'\n",
    "  arguments.path = datadir+'family4/results_tag1/'\n",
    "  arguments.res=datadir+'family4/figures_tag1/'\n",
    "else:\n",
    "  print(\"Family doesn't exist !\\n\")\n",
    "  exit(0)\n",
    "\n",
    "# 画图参数\n",
    "unit = float(arguments.SizeOfGrid)  #网格单元长宽m\n",
    "column_num = int((max_x-min_x)//unit)\n",
    "row_num = int((max_y-min_y)//unit)\n",
    "map_img = mpimg.imread(arguments.figure)\n",
    "\n",
    "# time epsilon：计算是否算同一区域的最大离开时间\n",
    "epsilon = 5 #timedelta(minutes=10)\n",
    "min_count = arguments.MinCountOfPoints\n",
    "\n",
    "# define time\n",
    "year = 2022\n",
    "# 输入路径和结果保存路径\n",
    "input_path = arguments.path\n",
    "res_path = arguments.res\n",
    "createPath(res_path) # 创建路径\n",
    "C = 0"
   ]
  },
  {
   "cell_type": "markdown",
   "metadata": {
    "id": "IJ1nCOkPTJmD"
   },
   "source": [
    "# 2. 读取数据并做基本处理"
   ]
  },
  {
   "cell_type": "code",
   "execution_count": 162,
   "metadata": {
    "colab": {
     "base_uri": "https://localhost:8080/"
    },
    "executionInfo": {
     "elapsed": 38159,
     "status": "ok",
     "timestamp": 1660575409839,
     "user": {
      "displayName": "Tianchi YU",
      "userId": "12867761051656789482"
     },
     "user_tz": -120
    },
    "id": "d5_hXB3tWH4f",
    "outputId": "512a088f-00a2-4e60-bce9-d95206eba95f"
   },
   "outputs": [
    {
     "ename": "KeyError",
     "evalue": "0",
     "output_type": "error",
     "traceback": [
      "\u001b[1;31m---------------------------------------------------------------------------\u001b[0m",
      "\u001b[1;31mKeyError\u001b[0m                                  Traceback (most recent call last)",
      "\u001b[1;32mD:\\Working Files\\anaconda3\\lib\\site-packages\\pandas\\core\\indexes\\base.py\u001b[0m in \u001b[0;36mget_loc\u001b[1;34m(self, key, method, tolerance)\u001b[0m\n\u001b[0;32m   3079\u001b[0m             \u001b[1;32mtry\u001b[0m\u001b[1;33m:\u001b[0m\u001b[1;33m\u001b[0m\u001b[1;33m\u001b[0m\u001b[0m\n\u001b[1;32m-> 3080\u001b[1;33m                 \u001b[1;32mreturn\u001b[0m \u001b[0mself\u001b[0m\u001b[1;33m.\u001b[0m\u001b[0m_engine\u001b[0m\u001b[1;33m.\u001b[0m\u001b[0mget_loc\u001b[0m\u001b[1;33m(\u001b[0m\u001b[0mcasted_key\u001b[0m\u001b[1;33m)\u001b[0m\u001b[1;33m\u001b[0m\u001b[1;33m\u001b[0m\u001b[0m\n\u001b[0m\u001b[0;32m   3081\u001b[0m             \u001b[1;32mexcept\u001b[0m \u001b[0mKeyError\u001b[0m \u001b[1;32mas\u001b[0m \u001b[0merr\u001b[0m\u001b[1;33m:\u001b[0m\u001b[1;33m\u001b[0m\u001b[1;33m\u001b[0m\u001b[0m\n",
      "\u001b[1;32mpandas\\_libs\\index.pyx\u001b[0m in \u001b[0;36mpandas._libs.index.IndexEngine.get_loc\u001b[1;34m()\u001b[0m\n",
      "\u001b[1;32mpandas\\_libs\\index.pyx\u001b[0m in \u001b[0;36mpandas._libs.index.IndexEngine.get_loc\u001b[1;34m()\u001b[0m\n",
      "\u001b[1;32mpandas\\_libs\\hashtable_class_helper.pxi\u001b[0m in \u001b[0;36mpandas._libs.hashtable.Int64HashTable.get_item\u001b[1;34m()\u001b[0m\n",
      "\u001b[1;32mpandas\\_libs\\hashtable_class_helper.pxi\u001b[0m in \u001b[0;36mpandas._libs.hashtable.Int64HashTable.get_item\u001b[1;34m()\u001b[0m\n",
      "\u001b[1;31mKeyError\u001b[0m: 0",
      "\nThe above exception was the direct cause of the following exception:\n",
      "\u001b[1;31mKeyError\u001b[0m                                  Traceback (most recent call last)",
      "\u001b[1;32m<ipython-input-162-53185887d321>\u001b[0m in \u001b[0;36m<module>\u001b[1;34m\u001b[0m\n\u001b[0;32m    504\u001b[0m     \u001b[1;31m# 同时对修正后的数据的时间增加日期\u001b[0m\u001b[1;33m\u001b[0m\u001b[1;33m\u001b[0m\u001b[1;33m\u001b[0m\u001b[0m\n\u001b[0;32m    505\u001b[0m     \u001b[1;32mfor\u001b[0m \u001b[0mi\u001b[0m \u001b[1;32min\u001b[0m \u001b[0mrange\u001b[0m\u001b[1;33m(\u001b[0m\u001b[0mlen\u001b[0m\u001b[1;33m(\u001b[0m\u001b[0mdf\u001b[0m\u001b[1;33m[\u001b[0m\u001b[1;34m'hour'\u001b[0m\u001b[1;33m]\u001b[0m\u001b[1;33m)\u001b[0m\u001b[1;33m)\u001b[0m\u001b[1;33m:\u001b[0m\u001b[1;33m\u001b[0m\u001b[1;33m\u001b[0m\u001b[0m\n\u001b[1;32m--> 506\u001b[1;33m         \u001b[0mpoint\u001b[0m \u001b[1;33m=\u001b[0m \u001b[1;33m[\u001b[0m\u001b[0mdf\u001b[0m\u001b[1;33m[\u001b[0m\u001b[1;34m'x值'\u001b[0m\u001b[1;33m]\u001b[0m\u001b[1;33m[\u001b[0m\u001b[0mi\u001b[0m\u001b[1;33m]\u001b[0m\u001b[1;33m,\u001b[0m\u001b[0mdf\u001b[0m\u001b[1;33m[\u001b[0m\u001b[1;34m'y值'\u001b[0m\u001b[1;33m]\u001b[0m\u001b[1;33m[\u001b[0m\u001b[0mi\u001b[0m\u001b[1;33m]\u001b[0m\u001b[1;33m]\u001b[0m\u001b[1;33m\u001b[0m\u001b[1;33m\u001b[0m\u001b[0m\n\u001b[0m\u001b[0;32m    507\u001b[0m         \u001b[0mold_point\u001b[0m \u001b[1;33m=\u001b[0m \u001b[1;33m[\u001b[0m\u001b[0mori_df\u001b[0m\u001b[1;33m[\u001b[0m\u001b[1;34m'x值'\u001b[0m\u001b[1;33m]\u001b[0m\u001b[1;33m[\u001b[0m\u001b[0mi\u001b[0m\u001b[1;33m]\u001b[0m\u001b[1;33m,\u001b[0m\u001b[0mori_df\u001b[0m\u001b[1;33m[\u001b[0m\u001b[1;34m'y值'\u001b[0m\u001b[1;33m]\u001b[0m\u001b[1;33m[\u001b[0m\u001b[0mi\u001b[0m\u001b[1;33m]\u001b[0m\u001b[1;33m]\u001b[0m\u001b[1;33m\u001b[0m\u001b[1;33m\u001b[0m\u001b[0m\n\u001b[0;32m    508\u001b[0m         \u001b[0mpoints\u001b[0m\u001b[1;33m.\u001b[0m\u001b[0mappend\u001b[0m\u001b[1;33m(\u001b[0m\u001b[0mpoint\u001b[0m\u001b[1;33m)\u001b[0m\u001b[1;33m\u001b[0m\u001b[1;33m\u001b[0m\u001b[0m\n",
      "\u001b[1;32mD:\\Working Files\\anaconda3\\lib\\site-packages\\pandas\\core\\series.py\u001b[0m in \u001b[0;36m__getitem__\u001b[1;34m(self, key)\u001b[0m\n\u001b[0;32m    851\u001b[0m \u001b[1;33m\u001b[0m\u001b[0m\n\u001b[0;32m    852\u001b[0m         \u001b[1;32melif\u001b[0m \u001b[0mkey_is_scalar\u001b[0m\u001b[1;33m:\u001b[0m\u001b[1;33m\u001b[0m\u001b[1;33m\u001b[0m\u001b[0m\n\u001b[1;32m--> 853\u001b[1;33m             \u001b[1;32mreturn\u001b[0m \u001b[0mself\u001b[0m\u001b[1;33m.\u001b[0m\u001b[0m_get_value\u001b[0m\u001b[1;33m(\u001b[0m\u001b[0mkey\u001b[0m\u001b[1;33m)\u001b[0m\u001b[1;33m\u001b[0m\u001b[1;33m\u001b[0m\u001b[0m\n\u001b[0m\u001b[0;32m    854\u001b[0m \u001b[1;33m\u001b[0m\u001b[0m\n\u001b[0;32m    855\u001b[0m         \u001b[1;32mif\u001b[0m \u001b[0mis_hashable\u001b[0m\u001b[1;33m(\u001b[0m\u001b[0mkey\u001b[0m\u001b[1;33m)\u001b[0m\u001b[1;33m:\u001b[0m\u001b[1;33m\u001b[0m\u001b[1;33m\u001b[0m\u001b[0m\n",
      "\u001b[1;32mD:\\Working Files\\anaconda3\\lib\\site-packages\\pandas\\core\\series.py\u001b[0m in \u001b[0;36m_get_value\u001b[1;34m(self, label, takeable)\u001b[0m\n\u001b[0;32m    959\u001b[0m \u001b[1;33m\u001b[0m\u001b[0m\n\u001b[0;32m    960\u001b[0m         \u001b[1;31m# Similar to Index.get_value, but we do not fall back to positional\u001b[0m\u001b[1;33m\u001b[0m\u001b[1;33m\u001b[0m\u001b[1;33m\u001b[0m\u001b[0m\n\u001b[1;32m--> 961\u001b[1;33m         \u001b[0mloc\u001b[0m \u001b[1;33m=\u001b[0m \u001b[0mself\u001b[0m\u001b[1;33m.\u001b[0m\u001b[0mindex\u001b[0m\u001b[1;33m.\u001b[0m\u001b[0mget_loc\u001b[0m\u001b[1;33m(\u001b[0m\u001b[0mlabel\u001b[0m\u001b[1;33m)\u001b[0m\u001b[1;33m\u001b[0m\u001b[1;33m\u001b[0m\u001b[0m\n\u001b[0m\u001b[0;32m    962\u001b[0m         \u001b[1;32mreturn\u001b[0m \u001b[0mself\u001b[0m\u001b[1;33m.\u001b[0m\u001b[0mindex\u001b[0m\u001b[1;33m.\u001b[0m\u001b[0m_get_values_for_loc\u001b[0m\u001b[1;33m(\u001b[0m\u001b[0mself\u001b[0m\u001b[1;33m,\u001b[0m \u001b[0mloc\u001b[0m\u001b[1;33m,\u001b[0m \u001b[0mlabel\u001b[0m\u001b[1;33m)\u001b[0m\u001b[1;33m\u001b[0m\u001b[1;33m\u001b[0m\u001b[0m\n\u001b[0;32m    963\u001b[0m \u001b[1;33m\u001b[0m\u001b[0m\n",
      "\u001b[1;32mD:\\Working Files\\anaconda3\\lib\\site-packages\\pandas\\core\\indexes\\base.py\u001b[0m in \u001b[0;36mget_loc\u001b[1;34m(self, key, method, tolerance)\u001b[0m\n\u001b[0;32m   3080\u001b[0m                 \u001b[1;32mreturn\u001b[0m \u001b[0mself\u001b[0m\u001b[1;33m.\u001b[0m\u001b[0m_engine\u001b[0m\u001b[1;33m.\u001b[0m\u001b[0mget_loc\u001b[0m\u001b[1;33m(\u001b[0m\u001b[0mcasted_key\u001b[0m\u001b[1;33m)\u001b[0m\u001b[1;33m\u001b[0m\u001b[1;33m\u001b[0m\u001b[0m\n\u001b[0;32m   3081\u001b[0m             \u001b[1;32mexcept\u001b[0m \u001b[0mKeyError\u001b[0m \u001b[1;32mas\u001b[0m \u001b[0merr\u001b[0m\u001b[1;33m:\u001b[0m\u001b[1;33m\u001b[0m\u001b[1;33m\u001b[0m\u001b[0m\n\u001b[1;32m-> 3082\u001b[1;33m                 \u001b[1;32mraise\u001b[0m \u001b[0mKeyError\u001b[0m\u001b[1;33m(\u001b[0m\u001b[0mkey\u001b[0m\u001b[1;33m)\u001b[0m \u001b[1;32mfrom\u001b[0m \u001b[0merr\u001b[0m\u001b[1;33m\u001b[0m\u001b[1;33m\u001b[0m\u001b[0m\n\u001b[0m\u001b[0;32m   3083\u001b[0m \u001b[1;33m\u001b[0m\u001b[0m\n\u001b[0;32m   3084\u001b[0m         \u001b[1;32mif\u001b[0m \u001b[0mtolerance\u001b[0m \u001b[1;32mis\u001b[0m \u001b[1;32mnot\u001b[0m \u001b[1;32mNone\u001b[0m\u001b[1;33m:\u001b[0m\u001b[1;33m\u001b[0m\u001b[1;33m\u001b[0m\u001b[0m\n",
      "\u001b[1;31mKeyError\u001b[0m: 0"
     ]
    }
   ],
   "source": [
    "\"\"\"\n",
    "Read Data\n",
    "\"\"\"\n",
    "# 读取之前生成的数据结果\n",
    "n = arguments.IntervalOfMinutesOrSeconds\n",
    "if n == 1:\n",
    "    if arguments.bySecond:\n",
    "        end_suffix = '_dataBySecond.xlsx'\n",
    "    else:\n",
    "        end_suffix = '_dataByMinute.xlsx'\n",
    "else:\n",
    "    if arguments.bySecond:\n",
    "        end_suffix = '_dataBy'+str(n)+'Seconds.xlsx'\n",
    "    else:\n",
    "        end_suffix = '_dataBy'+str(n)+'Minutes.xlsx'\n",
    "    \n",
    "\n",
    "# read files\n",
    "files = [f for f in os.listdir(input_path) if f.endswith(end_suffix)]\n",
    "# read data\n",
    "tags_order = []\n",
    "all_points_array = [] # 记录所有的数据点\n",
    "'''\n",
    "dict_df:\n",
    "key: 'tag0_2022_2_19'等\n",
    "data: 当天的时间-点值 dataframe\n",
    "'''\n",
    "dict_df = {} # 字典形式\n",
    "fixed_dict_df = {} # 修正后的字典\n",
    "list_df = [] # \n",
    "# data collection for one\n",
    "data_collection = []\n",
    "\n",
    "if arguments.MinCountOfPointsForAll == -1:\n",
    "    C = min_count * len(files)\n",
    "else:\n",
    "    C = arguments.MinCountOfPointsForAll\n",
    "\n",
    "    \n",
    "\n",
    "for f in files:\n",
    "    df = pd.read_excel(open(input_path+f,'rb'))\n",
    "\n",
    "    ### 统计某一时间段的数据\n",
    "    interval = [8,9]\n",
    "    df = df[ (df[\"hour\"]>=interval[0]) & (df[\"hour\"] <interval[1])] \n",
    "    if df.empty:\n",
    "        continue\n",
    "    ori_df = df.copy()# store the non-shifted points\n",
    "    # shift data 修正带有传感器误差的数据\n",
    "    if arguments.setConfig :\n",
    "        #print(\"==========>Start Shifting<============\")\n",
    "        df = shift(family_config,df)\n",
    "        #print(\"==========>End Shifting<============\")\n",
    "        # print(df_temp)\n",
    "\n",
    "    # 修改门口坐标\n",
    "    ## 第一户（父母家） tag0\n",
    "#     df.loc[(((abs(df['x值']-3.341428571)<0.0001)& (abs(df['y值']-4.33)<0.0001))|            \n",
    "#             ((abs(df['x值']-2.962)<0.0001) & (abs(df['y值']-4.895)<0.0001))|\n",
    "#             ((abs(df['x值']-3.32)<0.0001) & (abs(df['y值']-5.235)<0.0001))|\n",
    "#             ((abs(df['x值']-3.15)<0.0001) & (abs(df['y值']-4.985)<0.0001))|\n",
    "#             ((abs(df['x值']-3.6)<0.0001) & (abs(df['y值']-5.411666667)<0.0001))|\n",
    "#             ((abs(df['x值']-4.115)<0.0001) & (abs(df['y值']-4.62)<0.0001))|\n",
    "#             ((abs(df['x值']-2.98375)<0.0001) & (abs(df['y值']-4.885)<0.0001))|\n",
    "#             ((abs(df['x值']-3.613333333)<0.0001) & (abs(df['y值']-5.256666667)<0.0001))|\n",
    "#             ((abs(df['x值']-2.935)<0.0001) & (abs(df['y值']-4.525)<0.0001))|\n",
    "#             ((abs(df['x值']-3.255714286)<0.0001) & (abs(df['y值']-4.725714286)<0.0001))|\n",
    "#             ((abs(df['x值']-3.26)<0.0001) & (abs(df['y值']-4.892857143)<0.0001))|\n",
    "#             ((abs(df['x值']-3.538)<0.0001) & (abs(df['y值']-4.422)<0.0001))|\n",
    "#             ((abs(df['x值']-3.5325)<0.0001) & (abs(df['y值']-5.8525)<0.0001))|\n",
    "#             ((abs(df['x值']-3.81)<0.0001) & (abs(df['y值']-5.26)<0.0001))|\n",
    "#             ((abs(df['x值']-3.3425)<0.0001) & (abs(df['y值']-4.23625)<0.0001))|\n",
    "#             ((abs(df['x值']-3.28)<0.0001) & (abs(df['y值']-4.64)<0.0001))|\n",
    "#             ((abs(df['x值']-3.182857143)<0.0001) & (abs(df['y值']-5.404285714)<0.0001))|\n",
    "#             ((abs(df['x值']-3.6)<0.0001) & (abs(df['y值']-5.806)<0.0001))|\n",
    "#             ((abs(df['x值']-3.55388287)<0.0001) & (abs(df['y值']-4.477386111)<0.0001))|\n",
    "#             ((abs(df['x值']-3.834)<0.0001) & (abs(df['y值']-4.148)<0.0001))|\n",
    "#             ((abs(df['x值']-4)<0.0001) & (abs(df['y值']-4.27)<0.0001))|\n",
    "#             ((abs(df['x值']-3.835)<0.0001) & (abs(df['y值']-4.44)<0.0001))|\n",
    "#             ((abs(df['x值']-3.84)<0.0001) & (abs(df['y值']-4.64)<0.0001))|\n",
    "#             ((abs(df['x值']-3.53)<0.0001) & (abs(df['y值']-4.39)<0.0001))|\n",
    "#             ((abs(df['x值']-3.63)<0.0001) & (abs(df['y值']-4.5)<0.0001))|\n",
    "#             ((abs(df['x值']-3.77)<0.0001) & (abs(df['y值']-4.67)<0.0001))|\n",
    "#             ((abs(df['x值']-3.71)<0.0001) & (abs(df['y值']-5.095)<0.0001))|\n",
    "#             ((abs(df['x值']-3.388)<0.0001) & (abs(df['y值']-5.268)<0.0001))|\n",
    "#             ((abs(df['x值']-3.63)<0.0001) & (abs(df['y值']-5.22)<0.0001))|\n",
    "#             ((abs(df['x值']-3.67)<0.0001) & (abs(df['y值']-4.5)<0.0001))|\n",
    "#             ((abs(df['x值']-2.823333333)<0.0001) & (abs(df['y值']-5.38)<0.0001))|\n",
    "#             ((abs(df['x值']-4.115)<0.0001) & (abs(df['y值']-5.148571429)<0.0001))|\n",
    "#             ((abs(df['x值']-3.6)<0.0001) & (abs(df['y值']-5.7375)<0.0001))|\n",
    "#             ((abs(df['x值']-3.6)<0.0001) & (abs(df['y值']-5.375)<0.0001))\n",
    "#             ), 'x值'] = 3.5\n",
    "#     df.loc[((abs(df['x值']-3.5)<0.001) & \n",
    "#             ((abs(df['y值']-4.33)<0.0001) | \n",
    "#              (abs(df['y值']-4.895)<0.0001)|\n",
    "#              (abs(df['y值']-5.235)<0.0001)|\n",
    "#              (abs(df['y值']-4.985)<0.0001)|\n",
    "#              (abs(df['y值']-5.411666667)<0.0001)|\n",
    "#              (abs(df['y值']-4.62)<0.0001)|\n",
    "#              (abs(df['y值']-4.885)<0.0001)|\n",
    "#              (abs(df['y值']-5.256666667)<0.0001)|\n",
    "#              (abs(df['y值']-4.525)<0.0001)|\n",
    "#              (abs(df['y值']-4.725714286)<0.0001)|\n",
    "#              (abs(df['y值']-4.892857143)<0.0001)|\n",
    "#              (abs(df['y值']-4.422)<0.0001)|\n",
    "#              (abs(df['y值']-5.8525)<0.0001)|\n",
    "#              (abs(df['y值']-5.26)<0.0001)|\n",
    "#              (abs(df['y值']-4.23625)<0.0001)|\n",
    "#              (abs(df['y值']-4.64)<0.0001)|\n",
    "#              (abs(df['y值']-5.404285714)<0.0001)|\n",
    "#              (abs(df['y值']-5.806)<0.0001)|\n",
    "#              (abs(df['y值']-4.477386111)<0.0001)|\n",
    "#              (abs(df['y值']-4.148)<0.0001)|\n",
    "#              (abs(df['y值']-4.27)<0.0001)|\n",
    "#              (abs(df['y值']-4.44)<0.0001)|\n",
    "#              (abs(df['y值']-4.64)<0.0001)|\n",
    "#              (abs(df['y值']-4.39)<0.0001)|\n",
    "#              (abs(df['y值']-4.5)<0.0001)|\n",
    "#              (abs(df['y值']-4.67)<0.0001)|\n",
    "#              (abs(df['y值']-5.095)<0.0001)|\n",
    "#              (abs(df['y值']-5.268)<0.0001)|\n",
    "#              (abs(df['y值']-5.22)<0.0001)|\n",
    "#              (abs(df['y值']-4.5)<0.0001)|\n",
    "#              (abs(df['y值']-5.38)<0.0001)|\n",
    "#              (abs(df['y值']-5.148571429)<0.0001)|\n",
    "#              (abs(df['y值']-5.7375)<0.0001)|\n",
    "#              (abs(df['y值']-5.375)<0.0001)\n",
    "#              )),'y值'] = 5\n",
    "\n",
    "    ## 第一户（父母家） tag1\n",
    "    df.loc[(abs(df['x值']- 1.17)<0.001)     \n",
    "            , 'x值'] = -0.5\n",
    "    df.loc[((abs(df['x值'] - (-0.5))<0.001) \n",
    "           ),'y值'] = 3   \n",
    "    #移至卧室（3.5，5）\n",
    "    df.loc[(((abs(df['x值']- 3.225)<0.001)& (abs(df['y值']-5.13)<0.001))|\n",
    "            ((abs(df['x值']- 3.5)<0.001)& (abs(df['y值']-4.34)<0.001))|\n",
    "            ((abs(df['x值']- 3.0575)<0.001)& (abs(df['y值']-4.48750000000001)<0.001))|\n",
    "            ((abs(df['x值']- 2.38)<0.001)& (abs(df['y值']-5.17)<0.001))|  \n",
    "            ((abs(df['x值']- 3.16)<0.001)& (abs(df['y值']-4.34666666666666)<0.001))|  \n",
    "            ((abs(df['x值']- 3.665)<0.001)& (abs(df['y值']-4.53833333333333)<0.001))|\n",
    "            ((abs(df['x值']- 3.49)<0.001)& (abs(df['y值']-5.30000000000001)<0.000))|\n",
    "            ((abs(df['x值']- 3.14)<0.001)& (abs(df['y值']-4.61000000000001)<0.001))|\n",
    "            ((abs(df['x值']- 3.14155)<0.001)& (abs(df['y值']-4.66031666666667)<0.001))|\n",
    "            ((abs(df['x值']- 2.66887777777778)<0.001)& (abs(df['y值']-3.78531666666666)<0.001))|\n",
    "            ((abs(df['x值']- 3.56)<0.001)& (abs(df['y值']-4.69999999999999)<0.001))|\n",
    "            ((abs(df['x值']- 3.43000000000001)<0.001)& (abs(df['y值']-3.88)<0.001))|\n",
    "            ((abs(df['x值']- 3.3775)<0.001)& (abs(df['y值']-4.38)<0.001))|\n",
    "            ((abs(df['x值']- 3.75333333333333)<0.001)& (abs(df['y值']-4.97)<0.001))|\n",
    "            ((abs(df['x值']- 3.22333333333333)<0.001)& (abs(df['y值']-4.44999999999999)<0.001))|\n",
    "            ((abs(df['x值']- 1.64666666666666)<0.001)& (abs(df['y值']-3.52666666666667)<0.001))|\n",
    "            ((abs(df['x值']- 1.29824841269841)<0.001)& (abs(df['y值']-4.00763015873016)<0.001))|\n",
    "            ((abs(df['x值']- 3.34333333333333)<0.001)& (abs(df['y值']-4.69333333333333)<0.001))|\n",
    "            ((abs(df['x值']- 3.184)<0.001)& (abs(df['y值']-5.33)<0.001))|\n",
    "            ((abs(df['x值']- 2.9025)<0.001)& (abs(df['y值']-4.315)<0.001))|\n",
    "            ((abs(df['x值']- 3.45375000000001)<0.001)& (abs(df['y值']-4.745)<0.001))|\n",
    "            ((abs(df['x值']- 3.34)<0.001)& (abs(df['y值']-5.27666666666666)<0.001))|\n",
    "            ((abs(df['x值']- 3.18818333333333)<0.001)& (abs(df['y值']-4.32575833333333)<0.001))|\n",
    "            ((abs(df['x值']- 3.54)<0.001)& (abs(df['y值']-4.78)<0.001))|\n",
    "            ((abs(df['x值']- 3.386)<0.001)& (abs(df['y值']-4.62)<0.001))|\n",
    "            ((abs(df['x值']- 3.52)<0.001)& (abs(df['y值']-4.88999999999999)<0.001))|\n",
    "            ((abs(df['x值']- 3.31)<0.001) & (abs(df['y值']-5.645)<0.0001))      \n",
    "            ), 'x值'] = 3.5\n",
    "    df.loc[((abs(df['x值'] - 3.5)<0.001) & \n",
    "            ((abs(df['y值']-5.13)<0.001) | \n",
    "             (abs(df['y值']-4.34)<0.001)|\n",
    "             (abs(df['y值']-4.48750000000001)<0.001)|\n",
    "             (abs(df['y值']-5.17)<0.001)|\n",
    "             (abs(df['y值']-4.34666666666666)<0.001)|\n",
    "             (abs(df['y值']-4.53833333333333)<0.001)|\n",
    "             (abs(df['y值']-5.30000000000001)<0.001)|\n",
    "             (abs(df['y值']-4.61000000000001)<0.001)|\n",
    "             (abs(df['y值']-4.66031666666667)<0.001)|\n",
    "             (abs(df['y值']-3.78531666666666)<0.001)|\n",
    "             (abs(df['y值']-4.69999999999999)<0.001)|\n",
    "             (abs(df['y值']-3.88)<0.001)|\n",
    "             (abs(df['y值']-4.38)<0.001)|\n",
    "             (abs(df['y值']-4.97)<0.001)|\n",
    "             (abs(df['y值']-4.44999999999999)<0.001)|\n",
    "             (abs(df['y值']-3.52666666666667)<0.001)|\n",
    "             (abs(df['y值']-4.00763015873016)<0.001)|\n",
    "             (abs(df['y值']-4.69333333333333)<0.001)|\n",
    "             (abs(df['y值']-5.33)<0.001)|\n",
    "             (abs(df['y值']-4.315)<0.001)|\n",
    "             (abs(df['y值']-4.745)<0.001)|\n",
    "             (abs(df['y值']-5.27666666666666)<0.001)|\n",
    "             (abs(df['y值']-4.32575833333333)<0.001)|\n",
    "             (abs(df['y值']-4.78)<0.001)|\n",
    "             (abs(df['y值']-4.62)<0.001)|\n",
    "             (abs(df['y值']-4.88999999999999)<0.001)|\n",
    "             (abs(df['y值']-5.645)<0.001)\n",
    "             )),'y值'] = 5\n",
    "    #移至厨房（3，8）\n",
    "    df.loc[(((abs(df['x值']- 1.42)<0.001)& (abs(df['y值']-6.245)<0.001))|\n",
    "            ((abs(df['x值']- 2.29)<0.001)& (abs(df['y值']-5.03)<0.001))|\n",
    "            ((abs(df['x值']- 3.60666666666666)<0.001)& (abs(df['y值']-4.98333333333333)<0.001))|\n",
    "            ((abs(df['x值']- 3.43778333333333)<0.001)& (abs(df['y值']-5.61776111111111)<0.001))| \n",
    "            ((abs(df['x值']- 2.8)<0.001)& (abs(df['y值']-6.63333333333333)<0.001))|\n",
    "            ((abs(df['x值']- 2.88370424218378)<0.001)& (abs(df['y值']-6.96988888888889)<0.001))|\n",
    "            ((abs(df['x值']- 2.86125)<0.001)& (abs(df['y值']-5.89125000000001)<0.001))|\n",
    "            ((abs(df['x值']- 3.30777777777777)<0.001)& (abs(df['y值']-3.53111111111111)<0.001))|\n",
    "            ((abs(df['x值']- 3.22624999999999)<0.001)& (abs(df['y值']-4.88875)<0.001))|\n",
    "            ((abs(df['x值']- 3.18000000000001)<0.001)& (abs(df['y值']-4.88999999999999)<0.001))|\n",
    "            ((abs(df['x值']- 3.17360185185185)<0.001)& (abs(df['y值']-5.35146851851851)<0.001))|\n",
    "            ((abs(df['x值']- 3.5215537037037)<0.001)& (abs(df['y值']-5.11180343915345)<0.001))|\n",
    "            ((abs(df['x值']- 3.56999999999999)<0.001)& (abs(df['y值']-4.87714285714287)<0.001))|\n",
    "            ((abs(df['x值']- 2.51)<0.001)& (abs(df['y值']-6.30000000000001)<0.001))|\n",
    "            ((abs(df['x值']- 3.50833333333333)<0.001)& (abs(df['y值']-4.705)<0.001))|\n",
    "            ((abs(df['x值']- 3.32212453703704)<0.001) & (abs(df['y值']-5.66480694444445)<0.001))      \n",
    "            ), 'x值'] = 3\n",
    "    df.loc[((abs(df['x值'] - 3)<0.001) & \n",
    "            ((abs(df['y值']-6.245)<0.001) | \n",
    "             (abs(df['y值']-5.03)<0.001)|\n",
    "             (abs(df['y值']-4.98333333333333)<0.001)|\n",
    "             (abs(df['y值']-5.61776111111111)<0.001)|\n",
    "             (abs(df['y值']-6.63333333333333)<0.001)|\n",
    "             (abs(df['y值']-6.96988888888889)<0.001)|\n",
    "             (abs(df['y值']-5.89125000000001)<0.001)|\n",
    "             (abs(df['y值']-3.53111111111111)<0.001)|\n",
    "             (abs(df['y值']-4.88875)<0.001)|\n",
    "             (abs(df['y值']-4.88999999999999)<0.001)|\n",
    "             (abs(df['y值']-5.35146851851851)<0.001)|\n",
    "             (abs(df['y值']-5.11180343915345)<0.001)|\n",
    "             (abs(df['y值']-4.87714285714287)<0.001)|\n",
    "             (abs(df['y值']-6.30000000000001)<0.001)|\n",
    "             (abs(df['y值']-4.705)<0.001)|\n",
    "             (abs(df['y值']-5.66480694444445)<0.001)\n",
    "             )),'y值'] = 8\n",
    "    # 移至门口（-0.5，3）\n",
    "    df.loc[(((abs(df['x值']- 2.94)<0.001)& (abs(df['y值']-3.33)<0.001))|\n",
    "            ((abs(df['x值']- 2.92793055555555)<0.001)& (abs(df['y值']-3.35152777777778)<0.001))|\n",
    "            ((abs(df['x值']- 2.55511481481482)<0.001)& (abs(df['y值']-4.39897962962963)<0.001))|\n",
    "            ((abs(df['x值']- 2.90333333333334)<0.001)& (abs(df['y值']-4.62666666666667)<0.001))| \n",
    "            ((abs(df['x值']- 0.078)<0.001) & (abs(df['y值']-2.074)<0.001))      \n",
    "            ), 'x值'] = -0.5\n",
    "    df.loc[((abs(df['x值'] - (-0.5))<0.001) & \n",
    "            ((abs(df['y值']-3.33)<0.001) | \n",
    "             (abs(df['y值']-3.35152777777778)<0.001)|\n",
    "             (abs(df['y值']-4.39897962962963)<0.001)|\n",
    "             (abs(df['y值']-4.62666666666667)<0.001)|\n",
    "             (abs(df['y值']-2.074)<0.001)\n",
    "             )),'y值'] = 3            \n",
    "    # 移至客厅（1.5，2）\n",
    "    df.loc[(((abs(df['x值']- 1.89)<0.001)& (abs(df['y值']-3.63)<0.001))|\n",
    "            ((abs(df['x值']- 2.32)<0.001)& (abs(df['y值']-3.082)<0.001))|\n",
    "            ((abs(df['x值']- 2.72)<0.001)& (abs(df['y值']-0.266666666666667)<0.001))|\n",
    "            ((abs(df['x值']- 1.93375)<0.001)& (abs(df['y值']-0.41125)<0.001))|\n",
    "            ((abs(df['x值']- 2.563)<0.001) & (abs(df['y值']-0.226)<0.001))      \n",
    "            ), 'x值'] = 1.5\n",
    "    df.loc[((abs(df['x值'] - 1.5)<0.001) & \n",
    "            ((abs(df['y值']-3.63)<0.001) | \n",
    "             (abs(df['y值']-3.082)<0.001)|\n",
    "             (abs(df['y值']-0.266666666666667)<0.001)|\n",
    "             (abs(df['y值']-0.41125)<0.001)|\n",
    "             (abs(df['y值']-0.226)<0.001)\n",
    "             )),'y值'] = 2 \n",
    "            \n",
    "    ## 第二户（舅舅家） tag0\n",
    "    # df.loc[(((abs(df['x值']-2.1175)<0.0001) &(abs(df['y值']-6.27)<0.0001))|\n",
    "    #         ((abs(df['x值']-1.14875)<0.0001) &(abs(df['y值']-1.75875)<0.0001))|\n",
    "    #         ((abs(df['x值']-1.4475845)<0.0001) &(abs(df['y值']-6.7912643)<0.0001))|\n",
    "    #         ((abs(df['x值']-1.44)<0.0001) &(abs(df['y值']-6.77999999999999)<0.0001))|\n",
    "    #         ((abs(df['x值']-1.54444444444445)<0.0001) &(abs(df['y值']-6.5888888888889)<0.0001))|\n",
    "    #         ((abs(df['x值']-1.53142857142857)<0.0001) &(abs(df['y值']-6.65428571428572)<0.0001))|\n",
    "    #         ((abs(df['x值']- -0.04)<0.0001) &(abs(df['y值']-6.86000000000001)<0.0001))|\n",
    "    #         ((abs(df['x值']-1.44666666666667)<0.0001) &(abs(df['y值']-6.57833333333332)<0.0001))|\n",
    "    #         ((abs(df['x值']-1.364)<0.0001) &(abs(df['y值']-5.886)<0.0001))|\n",
    "    #         ((abs(df['x值']-2.05)<0.0001) &(abs(df['y值']-7.88333333333333)<0.0001))|\n",
    "    #         ((abs(df['x值']-1.81)<0.0001) &(abs(df['y值']-7.94)<0.0001))|\n",
    "    #         ((abs(df['x值']- -0.025)<0.0001) &(abs(df['y值']-5.41833333333333)<0.0001))|\n",
    "    #         ((abs(df['x值']- -0.04)<0.0001) &(abs(df['y值']-7.05500000000001)<0.0001))|\n",
    "    #         ((abs(df['x值']-0.38)<0.0001) &(abs(df['y值']-7.89999999999999)<0.0001))|\n",
    "    #         ((abs(df['x值']-0.35)<0.0001) &(abs(df['y值']-7.505)<0.0001))|\n",
    "    #         ((abs(df['x值']-1.11)<0.0001) &(abs(df['y值']-6.66000000000001)<0.0001))|\n",
    "    #         ((abs(df['x值']-1.40833333333333)<0.0001) &(abs(df['y值']-6.71499999999999)<0.0001))|\n",
    "    #         ((abs(df['x值']-1.34714285714286)<0.0001) &(abs(df['y值']-6.56857142857143)<0.0001))|\n",
    "    #         ((abs(df['x值']-1.56111111111111)<0.0001) &(abs(df['y值']-6.63333333333333)<0.0001))|\n",
    "    #         ((abs(df['x值']-1.18)<0.0001) &(abs(df['y值']-6.86200000000001)<0.0001))|\n",
    "    #         ((abs(df['x值']-0.56125)<0.0001) &(abs(df['y值']-3.25749999999999)<0.0001))|\n",
    "    #         ((abs(df['x值']-1.5325)<0.0001) &(abs(df['y值']-6.5675)<0.0001))|\n",
    "    #         ((abs(df['x值']-0.817777777777778)<0.0001) &(abs(df['y值']-6.74333333333334)<0.0001))|\n",
    "    #         ((abs(df['x值']-1.215)<0.0001) &(abs(df['y值']-6.83)<0.0001))|\n",
    "    #         ((abs(df['x值']-1.343)<0.0001) &(abs(df['y值']-6.68599999999999)<0.0001))|\n",
    "    #         ((abs(df['x值']-1.35333333333333)<0.0001) &(abs(df['y值']-6.66166666666667)<0.0001))|\n",
    "    #         ((abs(df['x值']-0.954444444444446)<0.0001) &(abs(df['y值']-6.77666666666666)<0.0001))|\n",
    "    #         ((abs(df['x值']-1.28)<0.0001) &(abs(df['y值']-6.62)<0.0001))|\n",
    "    #         ((abs(df['x值']-1.316)<0.0001) &(abs(df['y值']-6.656)<0.0001))|\n",
    "    #         ((abs(df['x值']-1.16)<0.0001) &(abs(df['y值']-2.135)<0.0001))|\n",
    "    #         ((abs(df['x值']-1.21142857142857)<0.0001) &(abs(df['y值']-6.85142857142858)<0.0001))|\n",
    "    #         ((abs(df['x值']-1.418)<0.0001) &(abs(df['y值']-6.916)<0.0001))|\n",
    "    #         ((abs(df['x值']-1.2475)<0.0001) &(abs(df['y值']-1.9625)<0.0001))|\n",
    "    #         ((abs(df['x值']-1.58)<0.0001) &(abs(df['y值']-6.62)<0.0001))|\n",
    "    #         ((abs(df['x值']-1.552)<0.0001) &(abs(df['y值']-6.85199999999999)<0.0001))|\n",
    "    #         ((abs(df['x值']-1.47)<0.0001) &(abs(df['y值']-6.35)<0.0001))|\n",
    "    #         ((abs(df['x值']-1.146)<0.0001) &(abs(df['y值']-6.39600000000001)<0.0001))|\n",
    "    #         ((abs(df['x值']-1.31)<0.0001) &(abs(df['y值']-6.43666666666667)<0.0001))|\n",
    "    #         ((abs(df['x值']-1.57444444444444)<0.0001) &(abs(df['y值']-6.56888888888888)<0.0001))|\n",
    "    #         ((abs(df['x值']-1.2925)<0.0001) &(abs(df['y值']-6.75999999999999)<0.0001))|\n",
    "    #         ((abs(df['x值']-1.259)<0.0001) &(abs(df['y值']-6.73599999999999)<0.0001))|\n",
    "    #         ((abs(df['x值']-1.27666666666667)<0.0001) &(abs(df['y值']-6.74833333333333)<0.0001))|\n",
    "    #         ((abs(df['x值']-1.255)<0.0001) &(abs(df['y值']-6.63)<0.0001))|\n",
    "    #         ((abs(df['x值']-1.08333333333333)<0.0001) &(abs(df['y值']-6.53333333333334)<0.0001))\n",
    "    #         ), 'x值'] = 3.0\n",
    "           \n",
    "    # df.loc[((abs(df['x值'] - 3.0)<0.0001) & \n",
    "    #         ((abs(df['y值']-6.27)<0.0001)| \n",
    "    #          (abs(df['y值']-1.75875)<0.0001)|\n",
    "    #          (abs(df['y值']-6.7912643)<0.0001)|\n",
    "    #          (abs(df['y值']-6.77999999999999)<0.0001)|\n",
    "    #          (abs(df['y值']-6.5888888888889)<0.0001)|\n",
    "    #          (abs(df['y值']-6.77999999999999)<0.0001)|\n",
    "    #          (abs(df['y值']-6.5888888888889)<0.0001)|\n",
    "    #          (abs(df['y值']-6.65428571428572)<0.0001)|\n",
    "    #          (abs(df['y值']-6.86000000000001)<0.0001)|\n",
    "    #          (abs(df['y值']-6.57833333333332)<0.0001)|\n",
    "    #          (abs(df['y值']-5.886)<0.0001)|\n",
    "    #          (abs(df['y值']-7.88333333333333)<0.0001)|\n",
    "    #          (abs(df['y值']-7.94)<0.0001)|\n",
    "    #          (abs(df['y值']-5.41833333333333)<0.0001)|\n",
    "    #          (abs(df['y值']-7.05500000000001)<0.0001)|\n",
    "    #          (abs(df['y值']-7.89999999999999)<0.0001)|\n",
    "    #          (abs(df['y值']-7.505)<0.0001)|\n",
    "    #          (abs(df['y值']-6.66000000000001)<0.0001)|\n",
    "    #          (abs(df['y值']-6.71499999999999)<0.0001)|\n",
    "    #          (abs(df['y值']-6.56857142857143)<0.0001)|\n",
    "    #          (abs(df['y值']-6.63333333333333)<0.0001)|\n",
    "    #          (abs(df['y值']-6.86200000000001)<0.0001)|\n",
    "    #          (abs(df['y值']-3.25749999999999)<0.0001)|\n",
    "    #          (abs(df['y值']-6.5675)<0.0001)|\n",
    "    #          (abs(df['y值']-6.83)<0.0001)|\n",
    "    #          (abs(df['y值']-6.74333333333334)<0.0001)|\n",
    "    #          (abs(df['y值']-6.68599999999999)<0.0001)|\n",
    "    #          (abs(df['y值']-6.66166666666667)<0.0001)|\n",
    "    #          (abs(df['y值']-6.77666666666666)<0.0001)|\n",
    "    #          (abs(df['y值']-6.62)<0.0001)|\n",
    "    #          (abs(df['y值']-6.656)<0.0001)|\n",
    "    #          (abs(df['y值']-2.135)<0.0001)|\n",
    "    #          (abs(df['y值']-6.85142857142858)<0.0001)|\n",
    "    #          (abs(df['y值']-6.916)<0.0001)|\n",
    "    #          (abs(df['y值']-1.9625)<0.0001)|\n",
    "    #          (abs(df['y值']-6.62)<0.0001)|\n",
    "    #          (abs(df['y值']-6.85199999999999)<0.0001)|\n",
    "    #          (abs(df['y值']-6.35)<0.0001)|\n",
    "    #          (abs(df['y值']-6.39600000000001)<0.0001)|\n",
    "    #          (abs(df['y值']-6.43666666666667)<0.0001)|\n",
    "    #          (abs(df['y值']-6.56888888888888)<0.0001)|\n",
    "    #          (abs(df['y值']-6.75999999999999)<0.0001)|\n",
    "    #          (abs(df['y值']-6.73599999999999)<0.0001)|\n",
    "    #          (abs(df['y值']-6.74833333333333)<0.0001)|\n",
    "    #          (abs(df['y值']-6.63)<0.0001)|\n",
    "    #          (abs(df['y值']-6.53333333333334)<0.0001)\n",
    "    #          )),'y值'] = 5.0\n",
    "    \n",
    "  ## 第二户（舅舅家） tag1\n",
    "#     df.loc[(((abs(df['x值']- 0.3225)<0.0001)& (abs(df['y值']-6.3725)<0.0001))|\n",
    "#             ((abs(df['x值']- -0.14)<0.0001)& (abs(df['y值']-5.12)<0.0001))|\n",
    "#             ((abs(df['x值']- 1.61333333333333)<0.0001) & (abs(df['y值']-6.97166666666668)<0.0001))|\n",
    "#             ((abs(df['x值']- 0.378333333333334)<0.0001)& (abs(df['y值']-6.40166666666666)<0.0001))|\n",
    "#             ((abs(df['x值']- 0.656999999999999)<0.0001) & (abs(df['y值']-6.48)<0.0001))|\n",
    "#             ((abs(df['x值']- 0.55)<0.0001) & (abs(df['y值']-6.47000000000001)<0.0001))|\n",
    "#             ((abs(df['x值']- 2.77142857142857)<0.0001) & (abs(df['y值']-4.45285714285714)<0.0001))|\n",
    "#             ((abs(df['x值']- -0.03)<0.0001) & (abs(df['y值']-6.97000000000001)<0.0001))|\n",
    "#             ((abs(df['x值']- 1.08333333333333)<0.0001)& (abs(df['y值']-7.36166666666668)<0.0001))|\n",
    "#             ((abs(df['x值']- -0.065)<0.0001) & (abs(df['y值']-7.455)<0.0001))|\n",
    "#             ((abs(df['x值']- 0.903999999999998)<0.0001) & (abs(df['y值']-6.63)<0.0001))|\n",
    "#             ((abs(df['x值']- 0.725000000000001)<0.0001) & (abs(df['y值']-6.69999999999999)<0.0001))|\n",
    "#             ((abs(df['x值']- 0.855714285714285)<0.0001) & (abs(df['y值']-7.46857142857142)<0.0001))|\n",
    "#             ((abs(df['x值']- 0.76)<0.0001) & (abs(df['y值']-6.76666666666666)<0.0001))|\n",
    "#             ((abs(df['x值']- 0.335000000000001)<0.0001) & (abs(df['y值']-5.75)<0.0001))|\n",
    "#             ((abs(df['x值']- -0.205)<0.0001) & (abs(df['y值']-6.36000000000001)<0.0001))|\n",
    "#             ((abs(df['x值']- 1.75)<0.0001) & (abs(df['y值']-9.435)<0.0001))|\n",
    "#             ((abs(df['x值']- 0.86)<0.0001) & (abs(df['y值']-6.58)<0.0001))|\n",
    "#             ((abs(df['x值']- 0.414999999999999)<0.0001) & (abs(df['y值']-6.81)<0.0001))|\n",
    "#             ((abs(df['x值']- 2.8375)<0.0001) & (abs(df['y值']-4.585)<0.0001))|\n",
    "#             ((abs(df['x值']- 0.445)<0.0001) & (abs(df['y值']-6.50999999999999)<0.0001))|\n",
    "#             ((abs(df['x值']- 0.899999999999999)<0.0001) & (abs(df['y值']-5.31999999999999)<0.0001))|\n",
    "#             ((abs(df['x值']- 0.04)<0.0001) & (abs(df['y值']-6.13)<0.0001))|\n",
    "#             ((abs(df['x值']- 1.05)<0.0001) & (abs(df['y值']-6.65333333333333)<0.0001))|\n",
    "#             ((abs(df['x值']- 0.82)<0.0001) & (abs(df['y值']-7.19428571428572)<0.0001))|\n",
    "#             ((abs(df['x值']- 1.11)<0.0001) & (abs(df['y值']-6.60000000000001)<0.0001))|\n",
    "#             ((abs(df['x值']- 0.355)<0.0001) & (abs(df['y值']-6.60833333333333)<0.0001))|\n",
    "#             ((abs(df['x值']- 0.420000000000001)<0.0001) & (abs(df['y值']-7.06999999999999)<0.0001))|\n",
    "#             ((abs(df['x值']- 0.44)<0.0001) & (abs(df['y值']-5.56999999999999)<0.0001))|\n",
    "#             ((abs(df['x值']- 2.775)<0.0001) & (abs(df['y值']-4.63)<0.0001))|\n",
    "#             ((abs(df['x值']- 3.88)<0.0001) & (abs(df['y值']-8.41750000000001)<0.0001))|\n",
    "#             ((abs(df['x值']- 1.393)<0.0001) & (abs(df['y值']-7.408)<0.0001))|\n",
    "#             ((abs(df['x值']- 0.292)<0.0001) & (abs(df['y值']-6.08600000000001)<0.0001))      \n",
    "#             ), 'x值'] = 3.0\n",
    "           \n",
    "#     df.loc[((abs(df['x值'] - 3.0)<0.0001) & \n",
    "#             ((abs(df['y值']-6.3725)<0.0001) | \n",
    "#              (abs(df['y值']-5.12)<0.0001)|\n",
    "#              (abs(df['y值']-6.97166666666668)<0.0001)|\n",
    "#              (abs(df['y值']-6.40166666666666)<0.0001)|\n",
    "#              (abs(df['y值']-6.48)<0.0001)|\n",
    "#              (abs(df['y值']-6.47000000000001)<0.0001)|\n",
    "#              (abs(df['y值']-4.45285714285714)<0.0001)|\n",
    "#              (abs(df['y值']-6.97000000000001)<0.0001)|\n",
    "#              (abs(df['y值']-7.36166666666668)<0.0001)|\n",
    "#              (abs(df['y值']-7.455)<0.0001)|\n",
    "#              (abs(df['y值']-6.63)<0.0001)|\n",
    "#              (abs(df['y值']-6.69999999999999)<0.0001)|\n",
    "#              (abs(df['y值']-7.46857142857142)<0.0001)|             \n",
    "#              (abs(df['y值']-6.76666666666666)<0.0001)|\n",
    "#              (abs(df['y值']-5.75)<0.0001)|\n",
    "#              (abs(df['y值']-6.36000000000001)<0.0001)|\n",
    "#              (abs(df['y值']-9.435)<0.0001)|\n",
    "#              (abs(df['y值']-6.58)<0.0001)|\n",
    "#              (abs(df['y值']-6.81)<0.0001)|\n",
    "#              (abs(df['y值']-4.585)<0.0001)|\n",
    "#              (abs(df['y值']-6.50999999999999)<0.0001)|\n",
    "#              (abs(df['y值']-5.31999999999999)<0.0001)|       \n",
    "#              (abs(df['y值']-6.13)<0.0001)|\n",
    "#              (abs(df['y值']-6.65333333333333)<0.0001)|\n",
    "#              (abs(df['y值']-7.19428571428572)<0.0001)|      \n",
    "#              (abs(df['y值']-6.60000000000001)<0.0001)|\n",
    "#              (abs(df['y值']-6.60833333333333)<0.0001)|      \n",
    "#              (abs(df['y值']-7.06999999999999)<0.0001)|\n",
    "#              (abs(df['y值']-5.56999999999999)<0.0001)|      \n",
    "#              (abs(df['y值']-4.63)<0.0001)|\n",
    "#              (abs(df['y值']-8.41750000000001)<0.0001)|\n",
    "#              (abs(df['y值']-7.408)<0.0001)|\n",
    "#              (abs(df['y值']-6.08600000000001)<0.0001)\n",
    "#              )),'y值'] = 5.0\n",
    "  ## 第三户（姨妈家） tag0 无\n",
    "  ## 第三户（姨妈家） tag1\n",
    "    # df.loc[(((abs(df['x值']- 5.625)<0.0001)& (abs(df['y值']-(-0.24))<0.0001))|\n",
    "    #         ((abs(df['x值']- 5.046)<0.0001)& (abs(df['y值']-1.014)<0.0001))|\n",
    "    #         ((abs(df['x值']- 5.31999999999999)<0.0001)& (abs(df['y值']-(-0.403333333333333))<0.0001))|\n",
    "    #         ((abs(df['x值']- 6.67)<0.0001)& (abs(df['y值']-(-0.789999999999999))<0.0001))|            \n",
    "    #         ((abs(df['x值']- 4)<0.0001) & (abs(df['y值']-(-3.41))<0.0001))      \n",
    "    #         ), 'x值'] = 2.5\n",
    "    # df.loc[((abs(df['x值'] - 2.5)<0.0001) & \n",
    "    #         ((abs(df['y值']-(-0.24))<0.0001) | \n",
    "    #          (abs(df['y值']-1.014)<0.0001)|\n",
    "    #          (abs(df['y值']-(-0.403333333333333))<0.0001)|\n",
    "    #          (abs(df['y值']-(-0.789999999999999))<0.0001)|\n",
    "    #          (abs(df['y值']-(-3.41))<0.0001)\n",
    "    #          )),'y值'] = 7.5\n",
    "  \n",
    "  ## 第三户（姨妈家） tag2\n",
    "    # df.loc[(((abs(df['x值']-3.384444444)<0.0001)& (abs(df['y值']-3.915555556)<0.0001))|            \n",
    "    #         ((abs(df['x值']-11.53)<0.0001) & (abs(df['y值']-3.666666667)<0.0001))      \n",
    "    #         ), 'x值'] = 2.5\n",
    "    # df.loc[((abs(df['x值']-2.5)<0.0001) & \n",
    "    #         ((abs(df['y值']-3.915555556)<0.0001) | \n",
    "    #          (abs(df['y值']-3.666666667)<0.0001)\n",
    "    #          )),'y值'] = 7.5\n",
    "\n",
    "  ## 第四户（曾云一家） tag0\n",
    "    # df.loc[(((abs(df['x值']-2.75)<0.0001)& (abs(df['y值']-0.29)<0.0001))      \n",
    "    #         ), 'x值'] = 0\n",
    "    # df.loc[((abs(df['x值']-0)<0.0001) & \n",
    "    #         ((abs(df['y值']-0.29)<0.0001)\n",
    "    #          )),'y值'] = -1\n",
    "  ## 第四户（曾云一家） tag1\n",
    "    # df.loc[(((abs(df['x值']-6.503333333)<0.0001)& (abs(df['y值']-1.25)<0.0001))      \n",
    "    #         ), 'x值'] = 0\n",
    "    # df.loc[((abs(df['x值']-0)<0.0001) & \n",
    "    #         ((abs(df['y值']-1.25)<0.0001)\n",
    "    #          )),'y值'] = -1\n",
    "  ## 第四户（曾云一家） tag2\n",
    "    # df.loc[(((abs(df['x值']-3.42)<0.0001)& (abs(df['y值']-0.54)<0.0001))|            \n",
    "    #         ((abs(df['x值']-2.74)<0.0001) & (abs(df['y值']-0.4)<0.0001))|\n",
    "    #         ((abs(df['x值']-3.46)<0.0001) & (abs(df['y值']-0.4081818182)<0.0001))|\n",
    "    #         ((abs(df['x值']-3.42)<0.0001) & (abs(df['y值']-0.47)<0.0001))|               \n",
    "    #         ((abs(df['x值']-3.24)<0.0001) & (abs(df['y值']-0.1)<0.0001))\n",
    "    #         ), 'x值'] = 0\n",
    "    # df.loc[((abs(df['x值']-0)<0.0001) & \n",
    "    #         ((abs(df['y值']-0.54)<0.0001)| \n",
    "    #          (abs(df['y值']-0.4)<0.0001)|\n",
    "    #          (abs(df['y值']-0.4081818182)<0.0001)|\n",
    "    #          (abs(df['y值']-0.47)<0.0001)|\n",
    "    #          (abs(df['y值']-0.1)<0.0001)\n",
    "    #          )),'y值'] = -1\n",
    "  ## 第四户（曾云一家） tag3\n",
    "    # df.loc[(((abs(df['x值']-0.95)<0.0001)& (abs(df['y值']-2.52)<0.0001))|            \n",
    "    #         ((abs(df['x值']-2.98)<0.0001) & (abs(df['y值']-0.415)<0.0001))|\n",
    "    #         ((abs(df['x值']-0.94)<0.0001) & (abs(df['y值']-1.19)<0.0001))|\n",
    "    #         ((abs(df['x值']-3.57)<0.0001) & (abs(df['y值']-2.7)<0.0001))\n",
    "    #         ), 'x值'] = 0\n",
    "    # df.loc[((abs(df['x值']-0)<0.0001) & \n",
    "    #         ((abs(df['y值']-2.52)<0.0001)| \n",
    "    #          (abs(df['y值']-0.415)<0.0001)|\n",
    "    #          (abs(df['y值']-1.19)<0.0001)|\n",
    "    #          (abs(df['y值']-2.7)<0.0001)\n",
    "    #          )),'y值'] = -1\n",
    "    \n",
    "    \n",
    "    # one copy of df\n",
    "    df_copy = df.copy()\n",
    "\n",
    "    # 提取日期信息\n",
    "    parsed = parse(\"{}_{}_{}\",f)\n",
    "    my_date = str(year)+'-'+parsed[1][:2]+'-'+parsed[1][2:]\n",
    "    date = str(dt.datetime.strptime(my_date, '%Y-%m-%d').date())\n",
    "\n",
    "    points = []\n",
    "    old_points = []\n",
    "    key = parsed[0]+\"_\"+my_date \n",
    "\n",
    "    # 循环记录所有的点（包括修正前和修正后）\n",
    "    # 同时对修正后的数据的时间增加日期\n",
    "    for i in range(len(df['hour'])):\n",
    "        point = [df['x值'][i],df['y值'][i]]\n",
    "        old_point = [ori_df['x值'][i],ori_df['y值'][i]]\n",
    "        points.append(point)\n",
    "        old_points.append(old_point)\n",
    "        data_collection.append(point)\n",
    "            \n",
    "        # define new time for all in one\n",
    "        # TODO : if necessary, to change all dataframe time\n",
    "        new_time = pd.to_datetime(date + \" \" + df['time'][i].strftime(\"%H:%M:%S\"))\n",
    "        #df_copy['time'][i] = new_time\n",
    "        df_copy.at[i,'time'] = new_time\n",
    "\n",
    "    points_array = np.array(points)\n",
    "    old_points_array = np.array(old_points)\n",
    "    \n",
    "    # create non-shifted scatter\n",
    "    if len(old_points_array)==0: continue\n",
    "    createScatter(old_points_array,key,map_img,res_path,max_x,min_x,max_y,min_y)\n",
    "    #createScatter(points_array,key,map_img,res_path,max_x,min_x,max_y,min_y)\n",
    "\n",
    "    tags_order.append(parsed[0])\n",
    "    all_points_array.append(points_array)\n",
    "        \n",
    "    dict_df[key] =df_copy # change the time\n",
    "    #fixed_dict_df[key] = df_copy\n",
    "    #print(all_points_array)\n",
    "#     if df_copy.empty:\n",
    "#         continue\n",
    "    list_df.append(df_copy)\n",
    "    \n",
    "print(\"==========>Finish Reading<============\")\n"
   ]
  },
  {
   "cell_type": "markdown",
   "metadata": {
    "id": "QOKBQaX_VImR"
   },
   "source": [
    "# 3. 对整周/整段时间的数据整理"
   ]
  },
  {
   "cell_type": "markdown",
   "metadata": {
    "id": "CezOU-rUVTxg"
   },
   "source": [
    "## Dataframe 格式"
   ]
  },
  {
   "cell_type": "code",
   "execution_count": null,
   "metadata": {
    "colab": {
     "base_uri": "https://localhost:8080/"
    },
    "executionInfo": {
     "elapsed": 11,
     "status": "ok",
     "timestamp": 1660575409839,
     "user": {
      "displayName": "Tianchi YU",
      "userId": "12867761051656789482"
     },
     "user_tz": -120
    },
    "id": "Ew3L1Up4WH4k",
    "outputId": "26e7170a-1e7e-42d4-d6c8-9f2307ac4c63"
   },
   "outputs": [],
   "source": [
    "# collect all data by concatinate all dataframe to one\n",
    "data_collection_array = np.array(data_collection)\n",
    "print(list_df)\n",
    "df_week = pd.concat(list_df,sort=False)\n",
    "# NOTE : necessary ! to remove the index for series in dataframe\n",
    "df_week.reset_index(drop=True, inplace=True)\n",
    "nb_record = len(all_points_array)\n",
    "\n",
    "print(\"read files :\",files)\n",
    "print(\"有{}组数据/天\".format(nb_record))\n",
    "\n",
    "\n"
   ]
  },
  {
   "cell_type": "code",
   "execution_count": null,
   "metadata": {
    "executionInfo": {
     "elapsed": 8,
     "status": "ok",
     "timestamp": 1660575409840,
     "user": {
      "displayName": "Tianchi YU",
      "userId": "12867761051656789482"
     },
     "user_tz": -120
    },
    "id": "WbfT7TK5NoYM"
   },
   "outputs": [],
   "source": []
  },
  {
   "cell_type": "markdown",
   "metadata": {
    "id": "c2aCQfM0VX7a"
   },
   "source": [
    "## 画散点图"
   ]
  },
  {
   "cell_type": "code",
   "execution_count": null,
   "metadata": {
    "executionInfo": {
     "elapsed": 2623,
     "status": "ok",
     "timestamp": 1660575412455,
     "user": {
      "displayName": "Tianchi YU",
      "userId": "12867761051656789482"
     },
     "user_tz": -120
    },
    "id": "-WZFbjSTWH4m"
   },
   "outputs": [],
   "source": [
    "'''\n",
    "shifted_scatter_allIn 数据清理后，总共14天的散点图\n",
    "'''\n",
    "fig,ax = plt.subplots(figsize=(int(max_x-min_x),int(max_y-min_y)))\n",
    "ax.scatter(data_collection_array[:,0],data_collection_array[:,1],s=20) # data_collection_array: 第一列：x;第二列：y 排数=点数\n",
    "plt.imshow(map_img,zorder = 0, extent=[min_x,max_x,min_y,max_y])\n",
    "fig.savefig(res_path+\"shifted_scatter_allInOne.png\",dpi=300)\n",
    "plt.close(fig)"
   ]
  },
  {
   "cell_type": "markdown",
   "metadata": {
    "id": "AlXdNKe3VmmI"
   },
   "source": [
    "## 初步分析：\n",
    "每日在家时间统计；生成网格"
   ]
  },
  {
   "cell_type": "code",
   "execution_count": null,
   "metadata": {
    "executionInfo": {
     "elapsed": 18,
     "status": "ok",
     "timestamp": 1660575412457,
     "user": {
      "displayName": "Tianchi YU",
      "userId": "12867761051656789482"
     },
     "user_tz": -120
    },
    "id": "R1EGzc6AWH4m"
   },
   "outputs": [],
   "source": []
  },
  {
   "cell_type": "code",
   "execution_count": null,
   "metadata": {
    "executionInfo": {
     "elapsed": 18,
     "status": "ok",
     "timestamp": 1660575412458,
     "user": {
      "displayName": "Tianchi YU",
      "userId": "12867761051656789482"
     },
     "user_tz": -120
    },
    "id": "0_AfHG-ZZyDX"
   },
   "outputs": [],
   "source": []
  },
  {
   "cell_type": "code",
   "execution_count": null,
   "metadata": {
    "executionInfo": {
     "elapsed": 18,
     "status": "ok",
     "timestamp": 1660575412459,
     "user": {
      "displayName": "Tianchi YU",
      "userId": "12867761051656789482"
     },
     "user_tz": -120
    },
    "id": "9vwUGvejX_i9"
   },
   "outputs": [],
   "source": []
  },
  {
   "cell_type": "code",
   "execution_count": null,
   "metadata": {
    "colab": {
     "base_uri": "https://localhost:8080/"
    },
    "executionInfo": {
     "elapsed": 1646,
     "status": "ok",
     "timestamp": 1660575414087,
     "user": {
      "displayName": "Tianchi YU",
      "userId": "12867761051656789482"
     },
     "user_tz": -120
    },
    "id": "POSWjzyQWH4n",
    "outputId": "d14702ca-b513-4bd9-ddf0-74878c7597ac"
   },
   "outputs": [],
   "source": [
    "'''\n",
    "统计每天的在家时间\n",
    "'''\n",
    "number_cluster={}  # key=日期 value=当天的聚类数\n",
    "totaltimes=pd.DataFrame(columns=['date','TimeAtHome']) \n",
    "dict_zones_dict={}\n",
    "for key in dict_df.keys():\n",
    "    data = collectData(dict_df,key)\n",
    "\n",
    "    if(data.empty): continue\n",
    "    data,groups,grids = createGrid(data,key,column_num,row_num,max_x,min_x,max_y,min_y)\n",
    "    # 备注（给开发人员）：data作为可变对象传入函数，在createGrid被修改，因此修改的结果会保存到函数外部\n",
    "    # label是每个网格的编号\n",
    "    # groups 记录每个label内的数据点个数\n",
    "    # grids 按照矩阵格式记录每个网格的占比 \\sqrt{当前网格中的点数/最大网格中的点数}\n",
    "    # 记录每一天的在家时间\n",
    "    totaltime=len(data)\n",
    "    new_time=pd.DataFrame([[key, totaltime]],columns=['date','TimeAtHome'])\n",
    "    totaltimes=totaltimes.append(new_time,ignore_index=True)\n",
    "\n",
    "print(totaltimes)\n",
    "\n",
    "\n",
    "    "
   ]
  },
  {
   "cell_type": "markdown",
   "metadata": {
    "id": "d9Cs9AlIaAhx"
   },
   "source": []
  },
  {
   "cell_type": "markdown",
   "metadata": {
    "id": "VuRmjJ5EXAlZ"
   },
   "source": [
    "## 聚类算法分区+画成热力图"
   ]
  },
  {
   "cell_type": "markdown",
   "metadata": {
    "id": "27-vMI6-eYGj"
   },
   "source": [
    "### 整个时间段 ALL"
   ]
  },
  {
   "cell_type": "code",
   "execution_count": null,
   "metadata": {
    "colab": {
     "base_uri": "https://localhost:8080/",
     "height": 1000
    },
    "executionInfo": {
     "elapsed": 33682,
     "status": "ok",
     "timestamp": 1660575533926,
     "user": {
      "displayName": "Tianchi YU",
      "userId": "12867761051656789482"
     },
     "user_tz": -120
    },
    "id": "rOQRKWe5WH4o",
    "outputId": "64b73b2e-612f-4a0c-fb2a-07cac172c4f8"
   },
   "outputs": [],
   "source": [
    "'''\n",
    "整个14天的分区表示——聚类+画成热力图\n",
    "'''\n",
    "key=\"All\"\n",
    "data_allInOne = collectDataAllInOne(df_week)\n",
    "data_allInOne,groups,grids = createGrid(data_allInOne,key,column_num,row_num,max_x,min_x,max_y,min_y)\n",
    "#print(groups,grids)\n",
    "createHeatmap(grids,\"heatmap_allInOne\",map_img,res_path,unit,max_x,min_x,max_y,min_y)\n",
    "\n",
    "# create excel writer object 输出每个点对应的网格\n",
    "writer = pd.ExcelWriter(datadir+'output.xlsx')\n",
    "# write dataframe to excel\n",
    "data_allInOne.to_excel(writer)\n",
    "# save the excel\n",
    "writer.save()\n",
    "\n",
    " # 删去点数小于min_count的网格中的点——剩余的点更加集中，便于聚类\n",
    "choice_data_all=choose_spots(data_allInOne,groups,1)\n",
    "x=choice_data_all['x']\n",
    "y=choice_data_all['y']\n",
    "# centers: 聚类后每一类的中心点坐标——根据中心点划定zone的范围\n",
    "centers_all,y_pre_all = K_m(x,y,key,number_cluster,map_img,res_path,max_x,min_x,max_y,min_y)\n",
    "choice_data_all['zone']=y_pre_all\n",
    "# check example of label 461\n",
    "# for idx,row in choice_data_all.iterrows():\n",
    "#   if row['label'] == 461 :print(row)\n",
    "\n",
    "\n",
    "# 保存用于划分常驻区域的数据 （用于advanced analysis）\n",
    "store_data = choice_data_all.copy()\n",
    "writer2 = pd.ExcelWriter(datadir+family_config.name+'_choice_data_all.xlsx')\n",
    "# write dataframe to excel\n",
    "store_data.to_excel(writer2)\n",
    "# save the excel\n",
    "writer2.save()\n",
    "\n",
    "dict_zones_all= get_dict_zones(choice_data_all,number_cluster[key])\n",
    "zones_info_forall=get_zone_info(\"All\",dict_zones_all,res_path)\n",
    "new_grids = createHeatmapByTime(dict_zones_all,\"heatmap_allInOne\",map_img,res_path,row_num,column_num,unit,max_x,min_x,max_y,min_y,groups)\n",
    "createHeatmapByTime2(new_grids,\"heatmap_allInOne\",map_img,res_path,unit,max_x,min_x,max_y,min_y)\n",
    "# createTimeLine(key,details,res_path)\n"
   ]
  },
  {
   "cell_type": "code",
   "execution_count": null,
   "metadata": {
    "colab": {
     "base_uri": "https://localhost:8080/"
    },
    "executionInfo": {
     "elapsed": 69747,
     "status": "ok",
     "timestamp": 1660575773813,
     "user": {
      "displayName": "Tianchi YU",
      "userId": "12867761051656789482"
     },
     "user_tz": -120
    },
    "id": "gzKTcJBgihTm",
    "outputId": "00803185-bcdd-48c1-e4b1-e763b18f51f3"
   },
   "outputs": [],
   "source": [
    "print(dict_zones_all)"
   ]
  },
  {
   "cell_type": "markdown",
   "metadata": {
    "id": "xTAHNpJmedIr"
   },
   "source": [
    "### 按在家时间长短分为两类分析"
   ]
  },
  {
   "cell_type": "code",
   "execution_count": null,
   "metadata": {
    "executionInfo": {
     "elapsed": 5,
     "status": "ok",
     "timestamp": 1660575446882,
     "user": {
      "displayName": "Tianchi YU",
      "userId": "12867761051656789482"
     },
     "user_tz": -120
    },
    "id": "kVymoZA0WH4o"
   },
   "outputs": [],
   "source": [
    "# '''\n",
    "# 按在家时间长短分为两类分析\n",
    "# 首先处理数据，将数据分为两类并整合\n",
    "# '''\n",
    "    \n",
    "# list_long_df=[]\n",
    "# list_short_df=[]\n",
    "# list_mid_df=[]\n",
    "\n",
    "# for idx,row in totaltimes.iterrows():\n",
    "#     if row['TimeAtHome']>420: # 10h以上 长时间\n",
    "#         list_long_df.append(collectData(dict_df,row['date']))\n",
    "#     elif row['TimeAtHome']<420: # 5h以下 短时间\n",
    "#         list_short_df.append(collectData(dict_df,row['date']))\n",
    "#     else:\n",
    "#         list_mid_df.append(collectData(dict_df,row['date']))\n",
    "\n",
    "# df_long = pd.concat(list_long_df,sort=False)\n",
    "# df_long.reset_index(drop=True, inplace=True) \n",
    "\n",
    "# df_short = pd.concat(list_short_df,sort=False)\n",
    "# df_short.reset_index(drop=True, inplace=True) \n",
    "\n",
    "# # df_mid = pd.concat(list_mid_df,sort=False)\n",
    "# # df_mid.reset_index(drop=True, inplace=True) \n"
   ]
  },
  {
   "cell_type": "code",
   "execution_count": null,
   "metadata": {
    "colab": {
     "base_uri": "https://localhost:8080/",
     "height": 1000
    },
    "executionInfo": {
     "elapsed": 31367,
     "status": "ok",
     "timestamp": 1660575478244,
     "user": {
      "displayName": "Tianchi YU",
      "userId": "12867761051656789482"
     },
     "user_tz": -120
    },
    "id": "e-7aw14pWH4p",
    "outputId": "fe62705d-4d9e-4eb9-ca45-170cc3f7de26"
   },
   "outputs": [],
   "source": [
    "# '''\n",
    "# 短时段在家的情况：totaltimes[key]<420\n",
    "# '''\n",
    "# # print(list_short_df)\n",
    "# zones_info_short=FinalAnalysis(df_short,\"short\",len(list_short_df)*1,number_cluster,\n",
    "#                                 epsilon,row_num,column_num,map_img,res_path,unit,\n",
    "#                                 max_x,min_x,max_y,min_y,groups,family_config.name,withTimeLine=1)\n",
    "\n",
    "# '''\n",
    "# 长时段在家的情况：totaltimes[key]>420\n",
    "# '''\n",
    "# zones_info_long=FinalAnalysis(df_long,\"long\",len(list_long_df)*1,number_cluster,\n",
    "#                                 epsilon,row_num,column_num,map_img,res_path,unit,\n",
    "#                                 max_x,min_x,max_y,min_y,groups,family_config.name,withTimeLine=1)\n",
    "\n",
    "# '''\n",
    "# 中时段在家情况：totaltime[key]∈[420,630]\n",
    "# '''\n",
    "# # zones_info_mid=FinalAnalysis(df_mid,\"mid\",len(list_mid_df)*1,number_cluster,\n",
    "# #                                 epsilon,row_num,column_num,map_img,res_path,unit,\n",
    "# #                                 max_x,min_x,max_y,min_y,groups,family_config.name,withTimeLine=1)\n",
    "\n",
    "\n"
   ]
  },
  {
   "cell_type": "markdown",
   "metadata": {
    "id": "SOfoODUaWH4q"
   },
   "source": [
    " "
   ]
  },
  {
   "cell_type": "code",
   "execution_count": null,
   "metadata": {
    "colab": {
     "base_uri": "https://localhost:8080/",
     "height": 1000
    },
    "executionInfo": {
     "elapsed": 14032,
     "status": "ok",
     "timestamp": 1660575492271,
     "user": {
      "displayName": "Tianchi YU",
      "userId": "12867761051656789482"
     },
     "user_tz": -120
    },
    "id": "iBKMwsFDWH4r",
    "outputId": "9b82747c-a28e-4f24-bad3-49e4e1444511"
   },
   "outputs": [],
   "source": [
    "# '''\n",
    "# data:df_long  data_allInOne  [Dataframe]\n",
    "# zone_info: zones_info_long   zones_info_forall  [Dataframe]\n",
    "# [zone分区编号  labels(list)所含网格编号  Area]\n",
    "# '''\n",
    "# def stay_time(data,zone_info,key):\n",
    "#     # key:分区名称-value:对应的分区字典[key:时间段-value:出现的次数]\n",
    "#     dict_periods={}\n",
    "#     # 高于6分钟的时间段占总时间段的比例  All:所有时间段数量  MTS: 高于6分钟时间段的数量\n",
    "#     MTS_info=pd.DataFrame(columns=['zone','All','MTS','MTSPercentage'])\n",
    "#     for idx,row in zone_info.iterrows(): # 每个分区\n",
    "#         labels_now=row['labels'] # 分区所含的所有网格编号\n",
    "#         periods=[]  # 所有时间段 (这一块儿是统计时长的？@段梦凡)\n",
    "        \n",
    "#         count=0 # 计数 时间段长度\n",
    "#         for id,ro in data.iterrows():\n",
    "#             if ro['label'] in labels_now:\n",
    "#                 count=count+1\n",
    "#             else:\n",
    "#                 if count!=0:\n",
    "#                     periods.append(count)\n",
    "#                 count=0\n",
    "#         set_periods=set(periods)\n",
    "#         dict={}\n",
    "#         for item in set_periods:\n",
    "#             dict.update({item:periods.count(item)}) # 某长度时间段出现的次数\n",
    "#         dict_periods.update({row['zone']:dict})\n",
    "        \n",
    "#         pd1 = pd.DataFrame.from_dict(dict, orient='index')\n",
    "#         #print(pd1)\n",
    "#         writer = pd.ExcelWriter(datadir+'tmp/'+key+'_'+str(idx)+'_periods.xlsx')\n",
    "#         # write dataframe to excel\n",
    "#         pd1.to_excel(writer)\n",
    "#         # save the excel\n",
    "#         writer.save()\n",
    "\n",
    "#         # 画柱状图\n",
    "#         plt.figure()\n",
    "#         p1=plt.bar(list(dict.keys()),list(dict.values()) ,0.4,color=\"green\")\n",
    "#         plt.bar_label(p1, label_type='edge',fontsize=12)\n",
    "#         plt.xlabel('Time interval/min')\n",
    "#         plt.ylabel('Counts')\n",
    "#         plt.savefig(res_path+key+\"_zone=\"+str(row['zone'])+\"_TimeIntervalCounts\"+\".png\",dpi=300)\n",
    "        \n",
    "#         # 计算数字特征\n",
    "#         MoreThanSix=0\n",
    "#         MTSlength=0\n",
    "#         AllPeriods=0\n",
    "#         Alllength=0\n",
    "#         for i in dict.keys():\n",
    "#             if int(i)>=6:\n",
    "#                 MoreThanSix=MoreThanSix+dict[i]\n",
    "#                 MTSlength=MTSlength+int(i)*dict[i]\n",
    "#             AllPeriods=AllPeriods+dict[i]\n",
    "#             Alllength=Alllength+int(i)*dict[i]\n",
    "#         MTSPercentage=MoreThanSix/AllPeriods\n",
    "#         print(\"zone:\"+str(row['zone'])+\":MTS=\"+str(MTSPercentage))\n",
    "\n",
    "        \n",
    "#         newdf = pd.DataFrame({'zone':[ row['zone']],\n",
    "#         'All':[AllPeriods],\n",
    "#         'MTS':[MoreThanSix],\n",
    "#         'MTSPercentage':[MTSPercentage]})\n",
    "#         MTS_info=MTS_info.append(newdf,ignore_index=True)\n",
    "\n",
    "#     # 画MTS信息图\n",
    "#     # 绘柱状图\n",
    "#     plt.cla() #清空之前画的\n",
    "#     fig,ax1 = plt.subplots()\n",
    "#     ax2 = ax1.twinx() \n",
    "    \n",
    "#     x=list(MTS_info['zone'])\n",
    "#     y1=list(MTS_info['All'])\n",
    "#     y2=list(MTS_info['MTS'])\n",
    "#     y3=list(MTS_info['MTSPercentage'])\n",
    "    \n",
    "#     ax1.bar(x, height=y1, label='All Periods',width = 0.5, facecolor='lightskyblue',edgecolor='white')\n",
    "#     ax1.bar(x, height=y2, label='Periods > 6min',width = 0.5, facecolor='steelblue',edgecolor='white')\n",
    "\n",
    "#     ax1.set_xlabel(\"zone\")\n",
    "#     ax1.legend()\n",
    "    \n",
    "#     # 画折线图\n",
    "#     ax2.plot(x, y3, \"coral\", ms=8, marker='*',label=\"MTS Percentage\")\n",
    "#     # 在折线图上显示具体数值, ha参数控制水平对齐方式, va控制垂直对齐方式\n",
    "#     for x1, yy in zip(x, y3):\n",
    "#         ax2.text(x1, yy+0.02, str(round(yy, 3)), ha='center', va='bottom', fontsize=10, rotation=0)\n",
    "#     ax2.legend(loc=\"upper left\")\n",
    "#     plt.savefig(res_path+key+\"_MTSinfo\"+\".png\",dpi=300)\n",
    "\n",
    "#     return dict_periods,MTS_info\n",
    "\n",
    "\n",
    "# periods_info_all,MTS_info_all=stay_time(data_allInOne,zones_info_forall,\"All\")\n",
    "# periods_info_long,MTS_info_long=stay_time(df_long,zones_info_long,\"long\")\n",
    "# periods_info_short,MTS_info_short=stay_time(df_short,zones_info_short,\"short\")\n",
    "# periods_info_mid,MTS_info_mid=stay_time(df_mid,zones_info_mid,\"mid\")"
   ]
  },
  {
   "cell_type": "code",
   "execution_count": null,
   "metadata": {
    "executionInfo": {
     "elapsed": 12,
     "status": "ok",
     "timestamp": 1660575492271,
     "user": {
      "displayName": "Tianchi YU",
      "userId": "12867761051656789482"
     },
     "user_tz": -120
    },
    "id": "DEJNKpkwWH4r"
   },
   "outputs": [],
   "source": []
  }
 ],
 "metadata": {
  "colab": {
   "collapsed_sections": [],
   "name": "mytask-0813.ipynb",
   "provenance": [
    {
     "file_id": "1dPHbI4SIDvY9A7kPyD9ZYjmuhTroQrP3",
     "timestamp": 1657188818700
    }
   ]
  },
  "kernelspec": {
   "display_name": "Python 3",
   "language": "python",
   "name": "python3"
  },
  "language_info": {
   "codemirror_mode": {
    "name": "ipython",
    "version": 3
   },
   "file_extension": ".py",
   "mimetype": "text/x-python",
   "name": "python",
   "nbconvert_exporter": "python",
   "pygments_lexer": "ipython3",
   "version": "3.9.7"
  },
  "vscode": {
   "interpreter": {
    "hash": "0b3f080d8c8b565d9b8a6f462f0297a73e5243ce2927afb17416fb1378dbe0b4"
   }
  }
 },
 "nbformat": 4,
 "nbformat_minor": 1
}
